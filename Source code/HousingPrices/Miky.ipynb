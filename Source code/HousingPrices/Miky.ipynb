{
 "cells": [
  {
   "cell_type": "markdown",
   "metadata": {},
   "source": [
    "# HousingPrices\n",
    "Implement from scratch the ridge regression algorithm for regression with square loss.\n",
    "\n",
    "Apply the algorithm to the prediction of the label medianHouseValue in this dataset.\n",
    "\n",
    "Study the dependence of the cross-validated risk estimate on the parameter alpha of ridge regression.\n",
    "\n",
    "Try using PCA to improve the risk estimate.\n",
    "\n",
    "Optionally, use nested cross-validated risk estimates to remove the need of choosing the parameter.\n",
    "\n",
    "Here is a description of the attributes in the dataset:\n",
    "1. longitude: A measure of how far west a house is; a higher value is farther west\n",
    "2. latitude: A measure of how far north a house is; a higher value is farther north\n",
    "3. housingMedianAge: Median age of a house within a block; a lower number is a newer building\n",
    "4. totalRooms: Total number of rooms within a block\n",
    "5. totalBedrooms: Total number of bedrooms within a block\n",
    "6. population: Total number of people residing within a block\n",
    "7. households: Total number of households, a group of people residing within a home unit, for a block\n",
    "8. medianIncome: Median income for households within a block of houses (measured in tens of thousands of US Dollars)\n",
    "9. medianHouseValue: Median house value for households within a block (measured in US Dollars)\n",
    "10. oceanProximity: Location of the house w.r.t ocean/sea\n",
    "\n",
    "Note: The dataset has an attribute with missing values and an attribute with categorical values. Find a way of handling these anomalies and justify your choice.\n",
    "\n",
    "\n",
    "## License\n",
    "Copyright 2020 (c) Anna Olena Zhab'yak, Michele Maione. All rights reserved.\n",
    "\n",
    "Licensed under the [MIT](LICENSE) License."
   ]
  },
  {
   "cell_type": "markdown",
   "metadata": {},
   "source": [
    "----------------\n",
    "# Ridge regression\n",
    "This is a regression technique wich allows to deal with the multicollinearity of the features and try to reduce the overfitting of the data. \n",
    "minimize two elements, the RSS and the objective function \n",
    "\n",
    "In ridge regression two elements are optimized , the RSS and the objective function\n",
    "\n",
    "$ \\lVert y - Xw \\rVert ^2_2 + \\alpha \\lVert w \\rVert^2_2 $\n",
    "\n",
    "It is a variation of the Linear regression with a tunning parameter alpha to control model complexity.\n",
    "need to do a trade off between variance and bias\n",
    "1. the inhability for the model to capture the true relationship is called bias. How well the model fits our data \n",
    "2. how well model does on a completely new dataset. \n",
    "\n",
    "use the hyper parameter called alpha , to add a bias , prevent the model from real, it will have better accurancy on the testing set, it means it will not overfit in the training set.  \n",
    "\n",
    "## Libraries \n",
    "\n",
    "For this analysis, we will use a few libraries for managing and transform the database as well as to implement the ridge regression. First, let's download the libraries "
   ]
  },
  {
   "cell_type": "code",
   "execution_count": 1,
   "metadata": {
    "pycharm": {
     "name": "#%%\n"
    }
   },
   "outputs": [],
   "source": [
    "import numpy\n",
    "import pandas\n",
    "import seaborn\n",
    "import matplotlib.pyplot as plt\n",
    "\n",
    "from sklearn.linear_model import Ridge\n",
    "from sklearn.decomposition import PCA\n",
    "from sklearn.preprocessing import StandardScaler\n",
    "from sklearn.model_selection import learning_curve, validation_curve, cross_val_score, train_test_split, KFold, GridSearchCV\n",
    "\n",
    "#from LinearRegression.RidgeRegression.cholesky import Cholesky"
   ]
  },
  {
   "cell_type": "markdown",
   "metadata": {},
   "source": [
    "----------------\n",
    "## Dataset analysis\n",
    "Open the database, check the structure, show the head, take a look of its structure, the descriptive statistics and manage the columns.\n",
    "\n",
    "Create the constants\n",
    "\n",
    "The target value is the median_house_value which is predicted based on the features of different houses."
   ]
  },
  {
   "cell_type": "markdown",
   "metadata": {},
   "source": [
    "### Mean squared error\n",
    "The mean squared error function computes mean square error, a risk metric corresponding to the expected value of the squared (quadratic) error or loss.\n",
    "\n",
    "### R²\n",
    "The coefficient R² is defined as $ 1 - {u \\over v} $, where u is the residual sum of squares $ \\sum (y - y')^2 $ and v is the total sum of squares $ \\sum (y - \\bar{y})^2 $.\n",
    "\n",
    "The best possible score is 1.0 and it can be negative (because the model can be arbitrarily worse).\n",
    "\n",
    "A constant model that always predicts the expected value of y, disregarding the input features, would get a R² score of 0.0."
   ]
  },
  {
   "cell_type": "code",
   "execution_count": 2,
   "metadata": {
    "pycharm": {
     "name": "#%%\n"
    }
   },
   "outputs": [],
   "source": [
    "RMS = 'neg_mean_squared_error'\n",
    "R2 = 'r2'\n",
    "\n",
    "scoring = R2\n",
    "scoring_neg = 1\n",
    "scoring_label = 'R²'\n",
    "\n",
    "#scoring = RMS\n",
    "#scoring_neg = -1\n",
    "#scoring_label = 'Square loss'"
   ]
  },
  {
   "cell_type": "code",
   "execution_count": 3,
   "metadata": {
    "pycharm": {
     "name": "#%%\n"
    }
   },
   "outputs": [],
   "source": [
    "nested_cross_validation_trials = 10\n",
    "\n",
    "standardize = False\n",
    "\n",
    "fit_intercept = True\n",
    "normalize = True\n",
    "\n",
    "shuffleDataSet = False"
   ]
  },
  {
   "cell_type": "markdown",
   "metadata": {},
   "source": [
    "Valori di ɑ usati"
   ]
  },
  {
   "cell_type": "code",
   "execution_count": 4,
   "metadata": {
    "pycharm": {
     "name": "#%%\n"
    }
   },
   "outputs": [],
   "source": [
    "alphas = [1e-10, 1e-8, 1e-4, 1e-3, 1e-2, 0.1, 0.2, 0.25, 0.26, 0.27, 0.3, 0.4, 0.5, 0.6, 0.7, 0.8, 0.9, 1, 1.1, 1.5, 1.7, 2]"
   ]
  },
  {
   "cell_type": "markdown",
   "metadata": {
    "pycharm": {
     "name": "#%% md\n"
    }
   },
   "source": [
    "Create the constants"
   ]
  },
  {
   "cell_type": "code",
   "execution_count": 5,
   "metadata": {
    "pycharm": {
     "name": "#%%\n"
    }
   },
   "outputs": [],
   "source": [
    "column_to_predict = 'median_house_value'\n",
    "categories_columns = ['ocean_proximity']\n",
    "numerics_columns = [\"longitude\", \"latitude\", \"housing_median_age\", \"total_rooms\", \"total_bedrooms\", \"population\", \"households\", \"median_income\"]"
   ]
  },
  {
   "cell_type": "code",
   "execution_count": 6,
   "metadata": {
    "pycharm": {
     "name": "#%%\n"
    }
   },
   "outputs": [],
   "source": [
    "data_frame = pandas.read_csv(filepath_or_buffer='cal-housing.csv')\n",
    "\n",
    "# shuffle all DB\n",
    "data_frame = data_frame.sample(frac=1).reset_index(drop=True)"
   ]
  },
  {
   "cell_type": "code",
   "execution_count": 7,
   "metadata": {
    "pycharm": {
     "name": "#%%\n"
    }
   },
   "outputs": [
    {
     "name": "stdout",
     "output_type": "stream",
     "text": [
      "<class 'pandas.core.frame.DataFrame'>\n",
      "RangeIndex: 20640 entries, 0 to 20639\n",
      "Data columns (total 10 columns):\n",
      " #   Column              Non-Null Count  Dtype  \n",
      "---  ------              --------------  -----  \n",
      " 0   longitude           20640 non-null  float64\n",
      " 1   latitude            20640 non-null  float64\n",
      " 2   housing_median_age  20640 non-null  float64\n",
      " 3   total_rooms         20640 non-null  float64\n",
      " 4   total_bedrooms      20433 non-null  float64\n",
      " 5   population          20640 non-null  float64\n",
      " 6   households          20640 non-null  float64\n",
      " 7   median_income       20640 non-null  float64\n",
      " 8   median_house_value  20640 non-null  float64\n",
      " 9   ocean_proximity     20640 non-null  object \n",
      "dtypes: float64(9), object(1)\n",
      "memory usage: 1.5+ MB\n"
     ]
    }
   ],
   "source": [
    "data_frame.info()"
   ]
  },
  {
   "cell_type": "code",
   "execution_count": 8,
   "metadata": {
    "pycharm": {
     "name": "#%%\n"
    }
   },
   "outputs": [
    {
     "data": {
      "text/html": [
       "<div>\n",
       "<style scoped>\n",
       "    .dataframe tbody tr th:only-of-type {\n",
       "        vertical-align: middle;\n",
       "    }\n",
       "\n",
       "    .dataframe tbody tr th {\n",
       "        vertical-align: top;\n",
       "    }\n",
       "\n",
       "    .dataframe thead th {\n",
       "        text-align: right;\n",
       "    }\n",
       "</style>\n",
       "<table border=\"1\" class=\"dataframe\">\n",
       "  <thead>\n",
       "    <tr style=\"text-align: right;\">\n",
       "      <th></th>\n",
       "      <th>longitude</th>\n",
       "      <th>latitude</th>\n",
       "      <th>housing_median_age</th>\n",
       "      <th>total_rooms</th>\n",
       "      <th>total_bedrooms</th>\n",
       "      <th>population</th>\n",
       "      <th>households</th>\n",
       "      <th>median_income</th>\n",
       "      <th>median_house_value</th>\n",
       "    </tr>\n",
       "  </thead>\n",
       "  <tbody>\n",
       "    <tr>\n",
       "      <th>count</th>\n",
       "      <td>20640.000000</td>\n",
       "      <td>20640.000000</td>\n",
       "      <td>20640.000000</td>\n",
       "      <td>20640.000000</td>\n",
       "      <td>20433.000000</td>\n",
       "      <td>20640.000000</td>\n",
       "      <td>20640.000000</td>\n",
       "      <td>20640.000000</td>\n",
       "      <td>20640.000000</td>\n",
       "    </tr>\n",
       "    <tr>\n",
       "      <th>mean</th>\n",
       "      <td>-119.569704</td>\n",
       "      <td>35.631861</td>\n",
       "      <td>28.639486</td>\n",
       "      <td>2635.763081</td>\n",
       "      <td>537.870553</td>\n",
       "      <td>1425.476744</td>\n",
       "      <td>499.539680</td>\n",
       "      <td>3.870671</td>\n",
       "      <td>206855.816909</td>\n",
       "    </tr>\n",
       "    <tr>\n",
       "      <th>std</th>\n",
       "      <td>2.003532</td>\n",
       "      <td>2.135952</td>\n",
       "      <td>12.585558</td>\n",
       "      <td>2181.615252</td>\n",
       "      <td>421.385070</td>\n",
       "      <td>1132.462122</td>\n",
       "      <td>382.329753</td>\n",
       "      <td>1.899822</td>\n",
       "      <td>115395.615874</td>\n",
       "    </tr>\n",
       "    <tr>\n",
       "      <th>min</th>\n",
       "      <td>-124.350000</td>\n",
       "      <td>32.540000</td>\n",
       "      <td>1.000000</td>\n",
       "      <td>2.000000</td>\n",
       "      <td>1.000000</td>\n",
       "      <td>3.000000</td>\n",
       "      <td>1.000000</td>\n",
       "      <td>0.499900</td>\n",
       "      <td>14999.000000</td>\n",
       "    </tr>\n",
       "    <tr>\n",
       "      <th>25%</th>\n",
       "      <td>-121.800000</td>\n",
       "      <td>33.930000</td>\n",
       "      <td>18.000000</td>\n",
       "      <td>1447.750000</td>\n",
       "      <td>296.000000</td>\n",
       "      <td>787.000000</td>\n",
       "      <td>280.000000</td>\n",
       "      <td>2.563400</td>\n",
       "      <td>119600.000000</td>\n",
       "    </tr>\n",
       "    <tr>\n",
       "      <th>50%</th>\n",
       "      <td>-118.490000</td>\n",
       "      <td>34.260000</td>\n",
       "      <td>29.000000</td>\n",
       "      <td>2127.000000</td>\n",
       "      <td>435.000000</td>\n",
       "      <td>1166.000000</td>\n",
       "      <td>409.000000</td>\n",
       "      <td>3.534800</td>\n",
       "      <td>179700.000000</td>\n",
       "    </tr>\n",
       "    <tr>\n",
       "      <th>75%</th>\n",
       "      <td>-118.010000</td>\n",
       "      <td>37.710000</td>\n",
       "      <td>37.000000</td>\n",
       "      <td>3148.000000</td>\n",
       "      <td>647.000000</td>\n",
       "      <td>1725.000000</td>\n",
       "      <td>605.000000</td>\n",
       "      <td>4.743250</td>\n",
       "      <td>264725.000000</td>\n",
       "    </tr>\n",
       "    <tr>\n",
       "      <th>max</th>\n",
       "      <td>-114.310000</td>\n",
       "      <td>41.950000</td>\n",
       "      <td>52.000000</td>\n",
       "      <td>39320.000000</td>\n",
       "      <td>6445.000000</td>\n",
       "      <td>35682.000000</td>\n",
       "      <td>6082.000000</td>\n",
       "      <td>15.000100</td>\n",
       "      <td>500001.000000</td>\n",
       "    </tr>\n",
       "  </tbody>\n",
       "</table>\n",
       "</div>"
      ],
      "text/plain": [
       "          longitude      latitude  housing_median_age   total_rooms  \\\n",
       "count  20640.000000  20640.000000        20640.000000  20640.000000   \n",
       "mean    -119.569704     35.631861           28.639486   2635.763081   \n",
       "std        2.003532      2.135952           12.585558   2181.615252   \n",
       "min     -124.350000     32.540000            1.000000      2.000000   \n",
       "25%     -121.800000     33.930000           18.000000   1447.750000   \n",
       "50%     -118.490000     34.260000           29.000000   2127.000000   \n",
       "75%     -118.010000     37.710000           37.000000   3148.000000   \n",
       "max     -114.310000     41.950000           52.000000  39320.000000   \n",
       "\n",
       "       total_bedrooms    population    households  median_income  \\\n",
       "count    20433.000000  20640.000000  20640.000000   20640.000000   \n",
       "mean       537.870553   1425.476744    499.539680       3.870671   \n",
       "std        421.385070   1132.462122    382.329753       1.899822   \n",
       "min          1.000000      3.000000      1.000000       0.499900   \n",
       "25%        296.000000    787.000000    280.000000       2.563400   \n",
       "50%        435.000000   1166.000000    409.000000       3.534800   \n",
       "75%        647.000000   1725.000000    605.000000       4.743250   \n",
       "max       6445.000000  35682.000000   6082.000000      15.000100   \n",
       "\n",
       "       median_house_value  \n",
       "count        20640.000000  \n",
       "mean        206855.816909  \n",
       "std         115395.615874  \n",
       "min          14999.000000  \n",
       "25%         119600.000000  \n",
       "50%         179700.000000  \n",
       "75%         264725.000000  \n",
       "max         500001.000000  "
      ]
     },
     "execution_count": 8,
     "metadata": {},
     "output_type": "execute_result"
    }
   ],
   "source": [
    "data_frame.describe()"
   ]
  },
  {
   "cell_type": "code",
   "execution_count": 9,
   "metadata": {
    "pycharm": {
     "name": "#%%\n"
    }
   },
   "outputs": [
    {
     "data": {
      "text/html": [
       "<div>\n",
       "<style scoped>\n",
       "    .dataframe tbody tr th:only-of-type {\n",
       "        vertical-align: middle;\n",
       "    }\n",
       "\n",
       "    .dataframe tbody tr th {\n",
       "        vertical-align: top;\n",
       "    }\n",
       "\n",
       "    .dataframe thead th {\n",
       "        text-align: right;\n",
       "    }\n",
       "</style>\n",
       "<table border=\"1\" class=\"dataframe\">\n",
       "  <thead>\n",
       "    <tr style=\"text-align: right;\">\n",
       "      <th></th>\n",
       "      <th>longitude</th>\n",
       "      <th>latitude</th>\n",
       "      <th>housing_median_age</th>\n",
       "      <th>total_rooms</th>\n",
       "      <th>total_bedrooms</th>\n",
       "      <th>population</th>\n",
       "      <th>households</th>\n",
       "      <th>median_income</th>\n",
       "      <th>median_house_value</th>\n",
       "      <th>ocean_proximity</th>\n",
       "    </tr>\n",
       "  </thead>\n",
       "  <tbody>\n",
       "    <tr>\n",
       "      <th>0</th>\n",
       "      <td>-118.01</td>\n",
       "      <td>33.97</td>\n",
       "      <td>36.0</td>\n",
       "      <td>1451.0</td>\n",
       "      <td>224.0</td>\n",
       "      <td>608.0</td>\n",
       "      <td>246.0</td>\n",
       "      <td>6.0648</td>\n",
       "      <td>290800.0</td>\n",
       "      <td>&lt;1H OCEAN</td>\n",
       "    </tr>\n",
       "    <tr>\n",
       "      <th>1</th>\n",
       "      <td>-118.32</td>\n",
       "      <td>33.80</td>\n",
       "      <td>29.0</td>\n",
       "      <td>4317.0</td>\n",
       "      <td>1037.0</td>\n",
       "      <td>2102.0</td>\n",
       "      <td>959.0</td>\n",
       "      <td>3.1275</td>\n",
       "      <td>286400.0</td>\n",
       "      <td>&lt;1H OCEAN</td>\n",
       "    </tr>\n",
       "    <tr>\n",
       "      <th>2</th>\n",
       "      <td>-121.47</td>\n",
       "      <td>38.48</td>\n",
       "      <td>25.0</td>\n",
       "      <td>2969.0</td>\n",
       "      <td>551.0</td>\n",
       "      <td>1745.0</td>\n",
       "      <td>487.0</td>\n",
       "      <td>2.6382</td>\n",
       "      <td>76200.0</td>\n",
       "      <td>INLAND</td>\n",
       "    </tr>\n",
       "    <tr>\n",
       "      <th>3</th>\n",
       "      <td>-117.89</td>\n",
       "      <td>34.01</td>\n",
       "      <td>23.0</td>\n",
       "      <td>4535.0</td>\n",
       "      <td>955.0</td>\n",
       "      <td>3881.0</td>\n",
       "      <td>930.0</td>\n",
       "      <td>3.6275</td>\n",
       "      <td>154100.0</td>\n",
       "      <td>&lt;1H OCEAN</td>\n",
       "    </tr>\n",
       "    <tr>\n",
       "      <th>4</th>\n",
       "      <td>-122.03</td>\n",
       "      <td>36.96</td>\n",
       "      <td>40.0</td>\n",
       "      <td>584.0</td>\n",
       "      <td>126.0</td>\n",
       "      <td>316.0</td>\n",
       "      <td>139.0</td>\n",
       "      <td>3.5938</td>\n",
       "      <td>243500.0</td>\n",
       "      <td>NEAR OCEAN</td>\n",
       "    </tr>\n",
       "  </tbody>\n",
       "</table>\n",
       "</div>"
      ],
      "text/plain": [
       "   longitude  latitude  housing_median_age  total_rooms  total_bedrooms  \\\n",
       "0    -118.01     33.97                36.0       1451.0           224.0   \n",
       "1    -118.32     33.80                29.0       4317.0          1037.0   \n",
       "2    -121.47     38.48                25.0       2969.0           551.0   \n",
       "3    -117.89     34.01                23.0       4535.0           955.0   \n",
       "4    -122.03     36.96                40.0        584.0           126.0   \n",
       "\n",
       "   population  households  median_income  median_house_value ocean_proximity  \n",
       "0       608.0       246.0         6.0648            290800.0       <1H OCEAN  \n",
       "1      2102.0       959.0         3.1275            286400.0       <1H OCEAN  \n",
       "2      1745.0       487.0         2.6382             76200.0          INLAND  \n",
       "3      3881.0       930.0         3.6275            154100.0       <1H OCEAN  \n",
       "4       316.0       139.0         3.5938            243500.0      NEAR OCEAN  "
      ]
     },
     "execution_count": 9,
     "metadata": {},
     "output_type": "execute_result"
    }
   ],
   "source": [
    "data_frame.head()"
   ]
  },
  {
   "cell_type": "markdown",
   "metadata": {},
   "source": [
    "Here is the distribution of the values of the target variable \"median_house_value\".\n",
    "It looks like a normal distribution with a group of outliers on the highest value of the house."
   ]
  },
  {
   "cell_type": "code",
   "execution_count": 10,
   "metadata": {
    "pycharm": {
     "name": "#%%\n"
    }
   },
   "outputs": [
    {
     "data": {
      "image/png": "[encoded data removed]",
      "text/plain": [
       "<Figure size 1080x504 with 1 Axes>"
      ]
     },
     "metadata": {
      "needs_background": "light"
     },
     "output_type": "display_data"
    }
   ],
   "source": [
    "plt.figure(figsize=(15, 7))\n",
    "plt.title('Distribuzione dei valori di \"median_house_value\"')\n",
    "\n",
    "seaborn.distplot(data_frame[column_to_predict])\n",
    "\n",
    "plt.grid()\n",
    "plt.show()"
   ]
  },
  {
   "cell_type": "markdown",
   "metadata": {},
   "source": [
    "----------------\n",
    "## Data pre-processing"
   ]
  },
  {
   "cell_type": "markdown",
   "metadata": {},
   "source": [
    "### Outliers"
   ]
  },
  {
   "cell_type": "code",
   "execution_count": 11,
   "metadata": {},
   "outputs": [
    {
     "name": "stdout",
     "output_type": "stream",
     "text": [
      "There are 965 outliers\n"
     ]
    }
   ],
   "source": [
    "outliers = data_frame[data_frame[column_to_predict] == 500001].index\n",
    "\n",
    "print(f'There are {len(outliers)} outliers')\n",
    "\n",
    "data_frame.drop(outliers, inplace=True)"
   ]
  },
  {
   "cell_type": "code",
   "execution_count": 12,
   "metadata": {},
   "outputs": [
    {
     "data": {
      "image/png": "[encoded data removed]",
      "text/plain": [
       "<Figure size 1080x504 with 1 Axes>"
      ]
     },
     "metadata": {
      "needs_background": "light"
     },
     "output_type": "display_data"
    }
   ],
   "source": [
    "plt.figure(figsize=(15, 7))\n",
    "plt.title('Distribuzione dei valori di \"median_house_value\"')\n",
    "\n",
    "seaborn.distplot(data_frame[column_to_predict])\n",
    "\n",
    "plt.grid()\n",
    "plt.show()"
   ]
  },
  {
   "cell_type": "markdown",
   "metadata": {},
   "source": [
    "###  Missing values\n",
    "The dataset contains missing values which are handeled by replacing the value with the mean value of the column. This procedure is necessary to avoid errors in the execution."
   ]
  },
  {
   "cell_type": "code",
   "execution_count": 13,
   "metadata": {
    "pycharm": {
     "name": "#%%\n"
    }
   },
   "outputs": [],
   "source": [
    "for c in data_frame.columns:\n",
    "    if data_frame[c].hasnans:\n",
    "        m = data_frame[c].mean()\n",
    "        data_frame[c].fillna(value=m, inplace=True)"
   ]
  },
  {
   "cell_type": "markdown",
   "metadata": {},
   "source": [
    "### Categorical feature\n",
    "Categorical values cannot be treated as such for the statistical analysis, therefore they must be transormed in numbers.\n",
    "We generate columns for each element of the categorical feature. "
   ]
  },
  {
   "cell_type": "code",
   "execution_count": 14,
   "metadata": {
    "pycharm": {
     "name": "#%%\n"
    }
   },
   "outputs": [
    {
     "data": {
      "text/html": [
       "<div>\n",
       "<style scoped>\n",
       "    .dataframe tbody tr th:only-of-type {\n",
       "        vertical-align: middle;\n",
       "    }\n",
       "\n",
       "    .dataframe tbody tr th {\n",
       "        vertical-align: top;\n",
       "    }\n",
       "\n",
       "    .dataframe thead th {\n",
       "        text-align: right;\n",
       "    }\n",
       "</style>\n",
       "<table border=\"1\" class=\"dataframe\">\n",
       "  <thead>\n",
       "    <tr style=\"text-align: right;\">\n",
       "      <th></th>\n",
       "      <th>ocean_proximity__&lt;1H OCEAN</th>\n",
       "      <th>ocean_proximity__INLAND</th>\n",
       "      <th>ocean_proximity__ISLAND</th>\n",
       "      <th>ocean_proximity__NEAR BAY</th>\n",
       "      <th>ocean_proximity__NEAR OCEAN</th>\n",
       "    </tr>\n",
       "  </thead>\n",
       "  <tbody>\n",
       "    <tr>\n",
       "      <th>0</th>\n",
       "      <td>1</td>\n",
       "      <td>0</td>\n",
       "      <td>0</td>\n",
       "      <td>0</td>\n",
       "      <td>0</td>\n",
       "    </tr>\n",
       "    <tr>\n",
       "      <th>1</th>\n",
       "      <td>1</td>\n",
       "      <td>0</td>\n",
       "      <td>0</td>\n",
       "      <td>0</td>\n",
       "      <td>0</td>\n",
       "    </tr>\n",
       "    <tr>\n",
       "      <th>2</th>\n",
       "      <td>0</td>\n",
       "      <td>1</td>\n",
       "      <td>0</td>\n",
       "      <td>0</td>\n",
       "      <td>0</td>\n",
       "    </tr>\n",
       "    <tr>\n",
       "      <th>3</th>\n",
       "      <td>1</td>\n",
       "      <td>0</td>\n",
       "      <td>0</td>\n",
       "      <td>0</td>\n",
       "      <td>0</td>\n",
       "    </tr>\n",
       "    <tr>\n",
       "      <th>4</th>\n",
       "      <td>0</td>\n",
       "      <td>0</td>\n",
       "      <td>0</td>\n",
       "      <td>0</td>\n",
       "      <td>1</td>\n",
       "    </tr>\n",
       "    <tr>\n",
       "      <th>...</th>\n",
       "      <td>...</td>\n",
       "      <td>...</td>\n",
       "      <td>...</td>\n",
       "      <td>...</td>\n",
       "      <td>...</td>\n",
       "    </tr>\n",
       "    <tr>\n",
       "      <th>20635</th>\n",
       "      <td>1</td>\n",
       "      <td>0</td>\n",
       "      <td>0</td>\n",
       "      <td>0</td>\n",
       "      <td>0</td>\n",
       "    </tr>\n",
       "    <tr>\n",
       "      <th>20636</th>\n",
       "      <td>1</td>\n",
       "      <td>0</td>\n",
       "      <td>0</td>\n",
       "      <td>0</td>\n",
       "      <td>0</td>\n",
       "    </tr>\n",
       "    <tr>\n",
       "      <th>20637</th>\n",
       "      <td>0</td>\n",
       "      <td>1</td>\n",
       "      <td>0</td>\n",
       "      <td>0</td>\n",
       "      <td>0</td>\n",
       "    </tr>\n",
       "    <tr>\n",
       "      <th>20638</th>\n",
       "      <td>0</td>\n",
       "      <td>0</td>\n",
       "      <td>0</td>\n",
       "      <td>1</td>\n",
       "      <td>0</td>\n",
       "    </tr>\n",
       "    <tr>\n",
       "      <th>20639</th>\n",
       "      <td>1</td>\n",
       "      <td>0</td>\n",
       "      <td>0</td>\n",
       "      <td>0</td>\n",
       "      <td>0</td>\n",
       "    </tr>\n",
       "  </tbody>\n",
       "</table>\n",
       "<p>19675 rows × 5 columns</p>\n",
       "</div>"
      ],
      "text/plain": [
       "       ocean_proximity__<1H OCEAN  ocean_proximity__INLAND  \\\n",
       "0                               1                        0   \n",
       "1                               1                        0   \n",
       "2                               0                        1   \n",
       "3                               1                        0   \n",
       "4                               0                        0   \n",
       "...                           ...                      ...   \n",
       "20635                           1                        0   \n",
       "20636                           1                        0   \n",
       "20637                           0                        1   \n",
       "20638                           0                        0   \n",
       "20639                           1                        0   \n",
       "\n",
       "       ocean_proximity__ISLAND  ocean_proximity__NEAR BAY  \\\n",
       "0                            0                          0   \n",
       "1                            0                          0   \n",
       "2                            0                          0   \n",
       "3                            0                          0   \n",
       "4                            0                          0   \n",
       "...                        ...                        ...   \n",
       "20635                        0                          0   \n",
       "20636                        0                          0   \n",
       "20637                        0                          0   \n",
       "20638                        0                          1   \n",
       "20639                        0                          0   \n",
       "\n",
       "       ocean_proximity__NEAR OCEAN  \n",
       "0                                0  \n",
       "1                                0  \n",
       "2                                0  \n",
       "3                                0  \n",
       "4                                1  \n",
       "...                            ...  \n",
       "20635                            0  \n",
       "20636                            0  \n",
       "20637                            0  \n",
       "20638                            0  \n",
       "20639                            0  \n",
       "\n",
       "[19675 rows x 5 columns]"
      ]
     },
     "execution_count": 14,
     "metadata": {},
     "output_type": "execute_result"
    }
   ],
   "source": [
    "columns_categories = pandas.DataFrame()\n",
    "\n",
    "for c in categories_columns:\n",
    "    column = pandas.get_dummies(data=data_frame[c], prefix=c + '_')\n",
    "    columns_categories = pandas.concat((columns_categories, column), axis=1)\n",
    "\n",
    "columns_categories"
   ]
  },
  {
   "cell_type": "markdown",
   "metadata": {},
   "source": [
    "Then delete the categorical column and add a column for each element of the deleted categorical column"
   ]
  },
  {
   "cell_type": "code",
   "execution_count": 15,
   "metadata": {
    "pycharm": {
     "name": "#%%\n"
    }
   },
   "outputs": [],
   "source": [
    "data_frame.drop(columns=categories_columns, inplace=True)\n",
    "data_frame = pandas.concat([data_frame, columns_categories], axis=1)"
   ]
  },
  {
   "cell_type": "markdown",
   "metadata": {},
   "source": [
    "### Correlation of the dataset\n",
    "Explore the Peasrson's coefficient of correlation and build a simmetric correlation matrix between the features. This procedure is helpeful to eventually reduce the dimension of the dataset. "
   ]
  },
  {
   "cell_type": "markdown",
   "metadata": {},
   "source": [
    "Equazioni esempio:\n",
    "\n",
    "$$ \\hat{Y} = \\hat{\\beta}_{0} + \\sum \\limits _{j=1} ^{p} X_{j}\\hat{\\beta}_{j}  $$"
   ]
  },
  {
   "cell_type": "code",
   "execution_count": 16,
   "metadata": {
    "pycharm": {
     "name": "#%%\n"
    }
   },
   "outputs": [
    {
     "data": {
      "image/png": "[encoded data removed]",
      "text/plain": [
       "<Figure size 1080x1080 with 2 Axes>"
      ]
     },
     "metadata": {
      "needs_background": "light"
     },
     "output_type": "display_data"
    }
   ],
   "source": [
    "corr = data_frame.corr()\n",
    "\n",
    "plt.figure(figsize=(15, 15))\n",
    "plt.title('Correlazione tra le caratteristiche')\n",
    "\n",
    "seaborn.heatmap(corr, square=True, annot=True)\n",
    "\n",
    "plt.show()"
   ]
  },
  {
   "cell_type": "markdown",
   "metadata": {},
   "source": [
    "Pearson's coefficient is determined by :\n",
    "\n",
    "$$ r_{i,j} = \\frac{\\sum_{t=1}^m (x_{i,t}-\\mu_i)(x_{j,t}-\\mu_j)}{\\sqrt{\\sum_{t=1}^m (x_{i,t}-\\mu_i)^2}\\sqrt{\\sum_{t=1}^m (x_{j,t}-\\mu_j)^2}} $$"
   ]
  },
  {
   "cell_type": "markdown",
   "metadata": {},
   "source": [
    "The coefficient is in between -1 and +1, when it is close to |1| then there is a correlation (positive or negative) otherwise if the coefficient is close to 0 there isn't any correlation. If some features are linearly correlated they are not useful, because we can explain one feature through the correlated one."
   ]
  },
  {
   "cell_type": "code",
   "execution_count": 17,
   "metadata": {
    "pycharm": {
     "name": "#%%\n"
    }
   },
   "outputs": [
    {
     "data": {
      "text/html": [
       "<div>\n",
       "<style scoped>\n",
       "    .dataframe tbody tr th:only-of-type {\n",
       "        vertical-align: middle;\n",
       "    }\n",
       "\n",
       "    .dataframe tbody tr th {\n",
       "        vertical-align: top;\n",
       "    }\n",
       "\n",
       "    .dataframe thead th {\n",
       "        text-align: right;\n",
       "    }\n",
       "</style>\n",
       "<table border=\"1\" class=\"dataframe\">\n",
       "  <thead>\n",
       "    <tr style=\"text-align: right;\">\n",
       "      <th></th>\n",
       "      <th>longitude</th>\n",
       "      <th>latitude</th>\n",
       "      <th>housing_median_age</th>\n",
       "      <th>total_rooms</th>\n",
       "      <th>total_bedrooms</th>\n",
       "      <th>population</th>\n",
       "      <th>households</th>\n",
       "      <th>median_income</th>\n",
       "      <th>median_house_value</th>\n",
       "      <th>ocean_proximity__&lt;1H OCEAN</th>\n",
       "      <th>ocean_proximity__INLAND</th>\n",
       "      <th>ocean_proximity__ISLAND</th>\n",
       "      <th>ocean_proximity__NEAR BAY</th>\n",
       "      <th>ocean_proximity__NEAR OCEAN</th>\n",
       "    </tr>\n",
       "  </thead>\n",
       "  <tbody>\n",
       "    <tr>\n",
       "      <th>longitude</th>\n",
       "      <td>NaN</td>\n",
       "      <td>-0.924139</td>\n",
       "      <td>NaN</td>\n",
       "      <td>NaN</td>\n",
       "      <td>NaN</td>\n",
       "      <td>NaN</td>\n",
       "      <td>NaN</td>\n",
       "      <td>NaN</td>\n",
       "      <td>NaN</td>\n",
       "      <td>NaN</td>\n",
       "      <td>NaN</td>\n",
       "      <td>NaN</td>\n",
       "      <td>NaN</td>\n",
       "      <td>NaN</td>\n",
       "    </tr>\n",
       "    <tr>\n",
       "      <th>latitude</th>\n",
       "      <td>-0.924139</td>\n",
       "      <td>NaN</td>\n",
       "      <td>NaN</td>\n",
       "      <td>NaN</td>\n",
       "      <td>NaN</td>\n",
       "      <td>NaN</td>\n",
       "      <td>NaN</td>\n",
       "      <td>NaN</td>\n",
       "      <td>NaN</td>\n",
       "      <td>NaN</td>\n",
       "      <td>NaN</td>\n",
       "      <td>NaN</td>\n",
       "      <td>NaN</td>\n",
       "      <td>NaN</td>\n",
       "    </tr>\n",
       "    <tr>\n",
       "      <th>total_rooms</th>\n",
       "      <td>NaN</td>\n",
       "      <td>NaN</td>\n",
       "      <td>NaN</td>\n",
       "      <td>NaN</td>\n",
       "      <td>0.930916</td>\n",
       "      <td>0.859590</td>\n",
       "      <td>0.921102</td>\n",
       "      <td>NaN</td>\n",
       "      <td>NaN</td>\n",
       "      <td>NaN</td>\n",
       "      <td>NaN</td>\n",
       "      <td>NaN</td>\n",
       "      <td>NaN</td>\n",
       "      <td>NaN</td>\n",
       "    </tr>\n",
       "    <tr>\n",
       "      <th>total_bedrooms</th>\n",
       "      <td>NaN</td>\n",
       "      <td>NaN</td>\n",
       "      <td>NaN</td>\n",
       "      <td>0.930916</td>\n",
       "      <td>NaN</td>\n",
       "      <td>0.875270</td>\n",
       "      <td>0.974006</td>\n",
       "      <td>NaN</td>\n",
       "      <td>NaN</td>\n",
       "      <td>NaN</td>\n",
       "      <td>NaN</td>\n",
       "      <td>NaN</td>\n",
       "      <td>NaN</td>\n",
       "      <td>NaN</td>\n",
       "    </tr>\n",
       "    <tr>\n",
       "      <th>population</th>\n",
       "      <td>NaN</td>\n",
       "      <td>NaN</td>\n",
       "      <td>NaN</td>\n",
       "      <td>0.859590</td>\n",
       "      <td>0.875270</td>\n",
       "      <td>NaN</td>\n",
       "      <td>0.908997</td>\n",
       "      <td>NaN</td>\n",
       "      <td>NaN</td>\n",
       "      <td>NaN</td>\n",
       "      <td>NaN</td>\n",
       "      <td>NaN</td>\n",
       "      <td>NaN</td>\n",
       "      <td>NaN</td>\n",
       "    </tr>\n",
       "    <tr>\n",
       "      <th>households</th>\n",
       "      <td>NaN</td>\n",
       "      <td>NaN</td>\n",
       "      <td>NaN</td>\n",
       "      <td>0.921102</td>\n",
       "      <td>0.974006</td>\n",
       "      <td>0.908997</td>\n",
       "      <td>NaN</td>\n",
       "      <td>NaN</td>\n",
       "      <td>NaN</td>\n",
       "      <td>NaN</td>\n",
       "      <td>NaN</td>\n",
       "      <td>NaN</td>\n",
       "      <td>NaN</td>\n",
       "      <td>NaN</td>\n",
       "    </tr>\n",
       "  </tbody>\n",
       "</table>\n",
       "</div>"
      ],
      "text/plain": [
       "                longitude  latitude  housing_median_age  total_rooms  \\\n",
       "longitude             NaN -0.924139                 NaN          NaN   \n",
       "latitude        -0.924139       NaN                 NaN          NaN   \n",
       "total_rooms           NaN       NaN                 NaN          NaN   \n",
       "total_bedrooms        NaN       NaN                 NaN     0.930916   \n",
       "population            NaN       NaN                 NaN     0.859590   \n",
       "households            NaN       NaN                 NaN     0.921102   \n",
       "\n",
       "                total_bedrooms  population  households  median_income  \\\n",
       "longitude                  NaN         NaN         NaN            NaN   \n",
       "latitude                   NaN         NaN         NaN            NaN   \n",
       "total_rooms           0.930916    0.859590    0.921102            NaN   \n",
       "total_bedrooms             NaN    0.875270    0.974006            NaN   \n",
       "population            0.875270         NaN    0.908997            NaN   \n",
       "households            0.974006    0.908997         NaN            NaN   \n",
       "\n",
       "                median_house_value  ocean_proximity__<1H OCEAN  \\\n",
       "longitude                      NaN                         NaN   \n",
       "latitude                       NaN                         NaN   \n",
       "total_rooms                    NaN                         NaN   \n",
       "total_bedrooms                 NaN                         NaN   \n",
       "population                     NaN                         NaN   \n",
       "households                     NaN                         NaN   \n",
       "\n",
       "                ocean_proximity__INLAND  ocean_proximity__ISLAND  \\\n",
       "longitude                           NaN                      NaN   \n",
       "latitude                            NaN                      NaN   \n",
       "total_rooms                         NaN                      NaN   \n",
       "total_bedrooms                      NaN                      NaN   \n",
       "population                          NaN                      NaN   \n",
       "households                          NaN                      NaN   \n",
       "\n",
       "                ocean_proximity__NEAR BAY  ocean_proximity__NEAR OCEAN  \n",
       "longitude                             NaN                          NaN  \n",
       "latitude                              NaN                          NaN  \n",
       "total_rooms                           NaN                          NaN  \n",
       "total_bedrooms                        NaN                          NaN  \n",
       "population                            NaN                          NaN  \n",
       "households                            NaN                          NaN  "
      ]
     },
     "execution_count": 17,
     "metadata": {},
     "output_type": "execute_result"
    }
   ],
   "source": [
    "correlated_features = corr[((corr > 0.75) | (corr < -0.75)) & (corr != 1.0)].dropna(axis='index', how='all')\n",
    "correlated_features"
   ]
  },
  {
   "cell_type": "markdown",
   "metadata": {},
   "source": [
    "As we can see the pairs of the most correlated features are \n",
    "(households - total_bedrooms)\n",
    "(population - housegìholds)\n",
    "(total_rooms - total_bedrooms)\n",
    "(total_bedroom - households)\n",
    "\n",
    "Delete the correlated features\n",
    "\n",
    "1. population \n",
    "2. total_rooms"
   ]
  },
  {
   "cell_type": "code",
   "execution_count": 18,
   "metadata": {
    "pycharm": {
     "name": "#%%\n"
    }
   },
   "outputs": [],
   "source": [
    "columns_to_remove = ['latitude', 'population', 'total_rooms', column_to_predict]\n",
    "columns_to_use = list(data_frame.columns)\n",
    "\n",
    "for u in columns_to_remove:\n",
    "    columns_to_use.remove(u)\n",
    "    if numerics_columns.count(u) > 0:\n",
    "        numerics_columns.remove(u)\n",
    "\n",
    "X = data_frame.drop(columns=columns_to_remove)\n",
    "y = data_frame[column_to_predict]"
   ]
  },
  {
   "cell_type": "markdown",
   "metadata": {},
   "source": [
    "Quindi la nostra attuale X è la seguente:"
   ]
  },
  {
   "cell_type": "code",
   "execution_count": 19,
   "metadata": {
    "pycharm": {
     "name": "#%%\n"
    }
   },
   "outputs": [
    {
     "data": {
      "text/html": [
       "<div>\n",
       "<style scoped>\n",
       "    .dataframe tbody tr th:only-of-type {\n",
       "        vertical-align: middle;\n",
       "    }\n",
       "\n",
       "    .dataframe tbody tr th {\n",
       "        vertical-align: top;\n",
       "    }\n",
       "\n",
       "    .dataframe thead th {\n",
       "        text-align: right;\n",
       "    }\n",
       "</style>\n",
       "<table border=\"1\" class=\"dataframe\">\n",
       "  <thead>\n",
       "    <tr style=\"text-align: right;\">\n",
       "      <th></th>\n",
       "      <th>longitude</th>\n",
       "      <th>housing_median_age</th>\n",
       "      <th>total_bedrooms</th>\n",
       "      <th>households</th>\n",
       "      <th>median_income</th>\n",
       "      <th>ocean_proximity__&lt;1H OCEAN</th>\n",
       "      <th>ocean_proximity__INLAND</th>\n",
       "      <th>ocean_proximity__ISLAND</th>\n",
       "      <th>ocean_proximity__NEAR BAY</th>\n",
       "      <th>ocean_proximity__NEAR OCEAN</th>\n",
       "    </tr>\n",
       "  </thead>\n",
       "  <tbody>\n",
       "    <tr>\n",
       "      <th>0</th>\n",
       "      <td>-118.01</td>\n",
       "      <td>36.0</td>\n",
       "      <td>224.0</td>\n",
       "      <td>246.0</td>\n",
       "      <td>6.0648</td>\n",
       "      <td>1</td>\n",
       "      <td>0</td>\n",
       "      <td>0</td>\n",
       "      <td>0</td>\n",
       "      <td>0</td>\n",
       "    </tr>\n",
       "    <tr>\n",
       "      <th>1</th>\n",
       "      <td>-118.32</td>\n",
       "      <td>29.0</td>\n",
       "      <td>1037.0</td>\n",
       "      <td>959.0</td>\n",
       "      <td>3.1275</td>\n",
       "      <td>1</td>\n",
       "      <td>0</td>\n",
       "      <td>0</td>\n",
       "      <td>0</td>\n",
       "      <td>0</td>\n",
       "    </tr>\n",
       "    <tr>\n",
       "      <th>2</th>\n",
       "      <td>-121.47</td>\n",
       "      <td>25.0</td>\n",
       "      <td>551.0</td>\n",
       "      <td>487.0</td>\n",
       "      <td>2.6382</td>\n",
       "      <td>0</td>\n",
       "      <td>1</td>\n",
       "      <td>0</td>\n",
       "      <td>0</td>\n",
       "      <td>0</td>\n",
       "    </tr>\n",
       "    <tr>\n",
       "      <th>3</th>\n",
       "      <td>-117.89</td>\n",
       "      <td>23.0</td>\n",
       "      <td>955.0</td>\n",
       "      <td>930.0</td>\n",
       "      <td>3.6275</td>\n",
       "      <td>1</td>\n",
       "      <td>0</td>\n",
       "      <td>0</td>\n",
       "      <td>0</td>\n",
       "      <td>0</td>\n",
       "    </tr>\n",
       "    <tr>\n",
       "      <th>4</th>\n",
       "      <td>-122.03</td>\n",
       "      <td>40.0</td>\n",
       "      <td>126.0</td>\n",
       "      <td>139.0</td>\n",
       "      <td>3.5938</td>\n",
       "      <td>0</td>\n",
       "      <td>0</td>\n",
       "      <td>0</td>\n",
       "      <td>0</td>\n",
       "      <td>1</td>\n",
       "    </tr>\n",
       "    <tr>\n",
       "      <th>...</th>\n",
       "      <td>...</td>\n",
       "      <td>...</td>\n",
       "      <td>...</td>\n",
       "      <td>...</td>\n",
       "      <td>...</td>\n",
       "      <td>...</td>\n",
       "      <td>...</td>\n",
       "      <td>...</td>\n",
       "      <td>...</td>\n",
       "      <td>...</td>\n",
       "    </tr>\n",
       "    <tr>\n",
       "      <th>20635</th>\n",
       "      <td>-118.43</td>\n",
       "      <td>35.0</td>\n",
       "      <td>293.0</td>\n",
       "      <td>288.0</td>\n",
       "      <td>4.4688</td>\n",
       "      <td>1</td>\n",
       "      <td>0</td>\n",
       "      <td>0</td>\n",
       "      <td>0</td>\n",
       "      <td>0</td>\n",
       "    </tr>\n",
       "    <tr>\n",
       "      <th>20636</th>\n",
       "      <td>-122.68</td>\n",
       "      <td>36.0</td>\n",
       "      <td>259.0</td>\n",
       "      <td>268.0</td>\n",
       "      <td>3.4545</td>\n",
       "      <td>1</td>\n",
       "      <td>0</td>\n",
       "      <td>0</td>\n",
       "      <td>0</td>\n",
       "      <td>0</td>\n",
       "    </tr>\n",
       "    <tr>\n",
       "      <th>20637</th>\n",
       "      <td>-119.63</td>\n",
       "      <td>42.0</td>\n",
       "      <td>215.0</td>\n",
       "      <td>222.0</td>\n",
       "      <td>3.0833</td>\n",
       "      <td>0</td>\n",
       "      <td>1</td>\n",
       "      <td>0</td>\n",
       "      <td>0</td>\n",
       "      <td>0</td>\n",
       "    </tr>\n",
       "    <tr>\n",
       "      <th>20638</th>\n",
       "      <td>-122.41</td>\n",
       "      <td>52.0</td>\n",
       "      <td>565.0</td>\n",
       "      <td>524.0</td>\n",
       "      <td>2.6083</td>\n",
       "      <td>0</td>\n",
       "      <td>0</td>\n",
       "      <td>0</td>\n",
       "      <td>1</td>\n",
       "      <td>0</td>\n",
       "    </tr>\n",
       "    <tr>\n",
       "      <th>20639</th>\n",
       "      <td>-118.37</td>\n",
       "      <td>41.0</td>\n",
       "      <td>544.0</td>\n",
       "      <td>522.0</td>\n",
       "      <td>2.9883</td>\n",
       "      <td>1</td>\n",
       "      <td>0</td>\n",
       "      <td>0</td>\n",
       "      <td>0</td>\n",
       "      <td>0</td>\n",
       "    </tr>\n",
       "  </tbody>\n",
       "</table>\n",
       "<p>19675 rows × 10 columns</p>\n",
       "</div>"
      ],
      "text/plain": [
       "       longitude  housing_median_age  total_bedrooms  households  \\\n",
       "0        -118.01                36.0           224.0       246.0   \n",
       "1        -118.32                29.0          1037.0       959.0   \n",
       "2        -121.47                25.0           551.0       487.0   \n",
       "3        -117.89                23.0           955.0       930.0   \n",
       "4        -122.03                40.0           126.0       139.0   \n",
       "...          ...                 ...             ...         ...   \n",
       "20635    -118.43                35.0           293.0       288.0   \n",
       "20636    -122.68                36.0           259.0       268.0   \n",
       "20637    -119.63                42.0           215.0       222.0   \n",
       "20638    -122.41                52.0           565.0       524.0   \n",
       "20639    -118.37                41.0           544.0       522.0   \n",
       "\n",
       "       median_income  ocean_proximity__<1H OCEAN  ocean_proximity__INLAND  \\\n",
       "0             6.0648                           1                        0   \n",
       "1             3.1275                           1                        0   \n",
       "2             2.6382                           0                        1   \n",
       "3             3.6275                           1                        0   \n",
       "4             3.5938                           0                        0   \n",
       "...              ...                         ...                      ...   \n",
       "20635         4.4688                           1                        0   \n",
       "20636         3.4545                           1                        0   \n",
       "20637         3.0833                           0                        1   \n",
       "20638         2.6083                           0                        0   \n",
       "20639         2.9883                           1                        0   \n",
       "\n",
       "       ocean_proximity__ISLAND  ocean_proximity__NEAR BAY  \\\n",
       "0                            0                          0   \n",
       "1                            0                          0   \n",
       "2                            0                          0   \n",
       "3                            0                          0   \n",
       "4                            0                          0   \n",
       "...                        ...                        ...   \n",
       "20635                        0                          0   \n",
       "20636                        0                          0   \n",
       "20637                        0                          0   \n",
       "20638                        0                          1   \n",
       "20639                        0                          0   \n",
       "\n",
       "       ocean_proximity__NEAR OCEAN  \n",
       "0                                0  \n",
       "1                                0  \n",
       "2                                0  \n",
       "3                                0  \n",
       "4                                1  \n",
       "...                            ...  \n",
       "20635                            0  \n",
       "20636                            0  \n",
       "20637                            0  \n",
       "20638                            0  \n",
       "20639                            0  \n",
       "\n",
       "[19675 rows x 10 columns]"
      ]
     },
     "execution_count": 19,
     "metadata": {},
     "output_type": "execute_result"
    }
   ],
   "source": [
    "X"
   ]
  },
  {
   "cell_type": "markdown",
   "metadata": {},
   "source": [
    "Quindi la nostra attuale y è la seguente:"
   ]
  },
  {
   "cell_type": "code",
   "execution_count": 20,
   "metadata": {
    "pycharm": {
     "name": "#%%\n"
    }
   },
   "outputs": [
    {
     "data": {
      "text/plain": [
       "0        290800.0\n",
       "1        286400.0\n",
       "2         76200.0\n",
       "3        154100.0\n",
       "4        243500.0\n",
       "           ...   \n",
       "20635    182500.0\n",
       "20636    161200.0\n",
       "20637    133300.0\n",
       "20638    193800.0\n",
       "20639    296100.0\n",
       "Name: median_house_value, Length: 19675, dtype: float64"
      ]
     },
     "execution_count": 20,
     "metadata": {},
     "output_type": "execute_result"
    }
   ],
   "source": [
    "y"
   ]
  },
  {
   "cell_type": "markdown",
   "metadata": {},
   "source": [
    "----------------\n",
    "## Validation"
   ]
  },
  {
   "cell_type": "markdown",
   "metadata": {},
   "source": [
    "### Evaluate a score by cross-validation\n",
    "\n",
    "MA DOBBIAMO METTERLO QUI? SERVE?\n",
    "\n",
    "We start by investigating the sensitivity of the CV risk estimate to the choice of α."
   ]
  },
  {
   "cell_type": "code",
   "execution_count": 21,
   "metadata": {},
   "outputs": [
    {
     "name": "stdout",
     "output_type": "stream",
     "text": [
      "The cross-validated risk estimate (R²) with Cholesky is: 0.57\n",
      "The cross-validated risk estimate (R²) with SVD is: 0.57\n"
     ]
    }
   ],
   "source": [
    "cholesky = Ridge(alpha=1e-15, solver='cholesky', fit_intercept=fit_intercept, normalize=normalize)\n",
    "scores__c = cross_val_score(cholesky, X, y, cv=5, scoring=scoring, n_jobs=-1)\n",
    "cvrs__c = numpy.round(scoring_neg * scores__c.mean(), decimals=2)\n",
    "print(f'The cross-validated risk estimate ({scoring_label}) with Cholesky is: {cvrs__c}')\n",
    "\n",
    "\n",
    "svd = Ridge(alpha=1e-15, solver='svd', fit_intercept=fit_intercept, normalize=normalize)\n",
    "scores__s = cross_val_score(svd, X, y, cv=5, scoring=scoring, n_jobs=-1)\n",
    "cvrs__s = numpy.round(scoring_neg * scores__s.mean(), decimals=2)\n",
    "print(f'The cross-validated risk estimate ({scoring_label}) with SVD is: {cvrs__s}')"
   ]
  },
  {
   "cell_type": "markdown",
   "metadata": {},
   "source": [
    "### Validation curve\n",
    "\n",
    "Determine training and test scores for varying parameter values.\n",
    "\n",
    "Compute scores for an estimator with different values of a specified parameter. This is similar to grid search with one parameter. However, this will also compute training scores and is merely a utility for plotting the results."
   ]
  },
  {
   "cell_type": "code",
   "execution_count": null,
   "metadata": {
    "pycharm": {
     "name": "#%%\n"
    }
   },
   "outputs": [],
   "source": [
    "cholesky = Ridge(solver='cholesky', fit_intercept=fit_intercept, normalize=normalize)\n",
    "\n",
    "# the param 'alpha' is changed for each value of alphas\n",
    "# returns: \n",
    "# -Scores on training sets;\n",
    "# -Scores on test set.\n",
    "train_score__c, val_score__c = validation_curve(cholesky, X, y, 'alpha', alphas, cv=5, scoring=scoring, n_jobs=-1)\n",
    "\n",
    "train_score_mean__c = scoring_neg * numpy.mean(train_score__c, axis=1)\n",
    "train_score_std__c = numpy.std(train_score__c, axis=1)\n",
    "val_score_mean__c = scoring_neg * numpy.mean(val_score__c, axis=1)\n",
    "val_score_std__c = numpy.std(val_score__c, axis=1)\n",
    "\n",
    "\n",
    "svd = Ridge(solver='svd', fit_intercept=fit_intercept, normalize=normalize)\n",
    "\n",
    "# the param 'alpha' is changed for each value of alphas\n",
    "train_score__s, val_score__s = validation_curve(svd, X, y, 'alpha', alphas, cv=5, scoring=scoring, n_jobs=-1)\n",
    "\n",
    "train_score_mean__s = scoring_neg * numpy.mean(train_score__s, axis=1)\n",
    "train_score_std__s = numpy.std(train_score__s, axis=1)\n",
    "val_score_mean__s = scoring_neg * numpy.mean(val_score__s, axis=1)\n",
    "val_score_std__s = numpy.std(val_score__s, axis=1)"
   ]
  },
  {
   "cell_type": "code",
   "execution_count": null,
   "metadata": {
    "pycharm": {
     "name": "#%%\n"
    }
   },
   "outputs": [],
   "source": [
    "fig, (ax1, ax2) = plt.subplots(2, figsize=(15, 15))\n",
    "\n",
    "ax1.fill_between(alphas, train_score_mean__c - train_score_std__c, train_score_mean__c + train_score_std__c, alpha=0.1, color=\"r\")\n",
    "ax1.fill_between(alphas, val_score_mean__c - val_score_std__c, val_score_mean__c + val_score_std__c, alpha=0.1, color=\"g\")\n",
    "\n",
    "ax1.plot(alphas, train_score_mean__c, color=\"r\", label=\"Training error\")\n",
    "ax1.plot(alphas, val_score_mean__c, color=\"g\", label=\"CV risk estimate\")\n",
    "\n",
    "\n",
    "ax2.fill_between(alphas, train_score_mean__s - train_score_std__s, train_score_mean__s + train_score_std__s, alpha=0.1, color=\"r\")\n",
    "ax2.fill_between(alphas, val_score_mean__s - val_score_std__s, val_score_mean__s + val_score_std__s, alpha=0.1, color=\"g\")\n",
    "\n",
    "ax2.plot(alphas, train_score_mean__s, color=\"r\", label=\"Training error\")\n",
    "ax2.plot(alphas, val_score_mean__s, color=\"g\", label=\"CV risk estimate\")\n",
    "\n",
    "\n",
    "ax1.grid()\n",
    "ax2.grid()\n",
    "\n",
    "ax1.set_title('Cholesky')\n",
    "ax2.set_title('SVD')\n",
    "\n",
    "ax1.set_xlabel('Alpha')\n",
    "ax1.set_ylabel(scoring_label)\n",
    "ax2.set_xlabel('Alpha')\n",
    "ax2.set_ylabel(scoring_label)\n",
    "\n",
    "ax1.legend()\n",
    "ax2.legend()\n",
    "\n",
    "plt.show()"
   ]
  },
  {
   "cell_type": "markdown",
   "metadata": {},
   "source": [
    "### Learning curve\n",
    "\n",
    "Determines cross-validated training and test scores for different training set sizes.\n",
    "\n",
    "A cross-validation generator splits the whole dataset k times in training and test data. Subsets of the training set with varying sizes will be used to train the estimator and a score for each training subset size and the test set will be computed. Afterwards, the scores will be averaged over all k runs for each training subset size."
   ]
  },
  {
   "cell_type": "code",
   "execution_count": null,
   "metadata": {},
   "outputs": [],
   "source": [
    "min_ts = int(X.shape[0] * 0.1)\n",
    "max_ts = int(X.shape[0] * 0.8)\n",
    "step_ts = int(X.shape[0] * 0.05)\n",
    "sizes = range(min_ts, max_ts, step_ts)\n",
    "\n",
    "print(sizes)"
   ]
  },
  {
   "cell_type": "code",
   "execution_count": null,
   "metadata": {},
   "outputs": [],
   "source": [
    "svd = Ridge(alpha=1e-15, solver='svd', fit_intercept=fit_intercept, normalize=normalize)\n",
    "\n",
    "# Returns:\n",
    "# -Numbers of training examples that has been used to generate the learning curve. Note that the number of ticks might be less than n_ticks because duplicate entries will be removed;\n",
    "# -Scores on training sets;\n",
    "# -Scores on test set.\n",
    "train_size, train_score, val_score = learning_curve(svd, X, y, train_sizes=sizes, cv=5, scoring=scoring, n_jobs=-1)\n",
    "\n",
    "train_score_mean = scoring_neg * numpy.mean(train_score, axis=1)\n",
    "train_score_std = numpy.std(train_score, axis=1)\n",
    "val_score_mean = scoring_neg * numpy.mean(val_score, axis=1)\n",
    "val_score_std = numpy.std(val_score, axis=1)"
   ]
  },
  {
   "cell_type": "code",
   "execution_count": null,
   "metadata": {},
   "outputs": [],
   "source": [
    "plt.figure(figsize=(15, 15))\n",
    "plt.grid()\n",
    "\n",
    "plt.fill_between(sizes, train_score_mean - train_score_std, train_score_mean + train_score_std, alpha=0.1, color=\"r\")\n",
    "plt.fill_between(sizes, val_score_mean - val_score_std, val_score_mean + val_score_std, alpha=0.1, color=\"g\")\n",
    "\n",
    "plt.plot(sizes, train_score_mean, 'o-', color=\"r\", label=\"Training error\")\n",
    "plt.plot(sizes, val_score_mean, 'o-', color=\"g\", label=\"CV accuracy\")\n",
    "\n",
    "plt.legend()\n",
    "plt.xlabel('Training size')\n",
    "plt.ylabel(scoring_label)\n",
    "plt.show()"
   ]
  },
  {
   "cell_type": "markdown",
   "metadata": {},
   "source": [
    "----------------\n",
    "## Learning algorithm\n",
    "Before starting to learn the algorithm, the dataset must be splitted in subsets in order to preserve some data for the validation of the method."
   ]
  },
  {
   "cell_type": "markdown",
   "metadata": {},
   "source": [
    "### Train & Test\n",
    "Train 60%, Test 40%"
   ]
  },
  {
   "cell_type": "code",
   "execution_count": null,
   "metadata": {
    "pycharm": {
     "name": "#%%\n"
    }
   },
   "outputs": [],
   "source": [
    "x_train, x_test, y_train, y_test = train_test_split(X, y, test_size=0.4, shuffle=shuffleDataSet)\n",
    "y_train = y_train.to_numpy()\n",
    "y_test = y_test.to_numpy()"
   ]
  },
  {
   "cell_type": "markdown",
   "metadata": {},
   "source": [
    "### Standardize features\n",
    "ANCORA NON USATO\n",
    "\n",
    "Standardize features by removing the mean and scaling to unit variance"
   ]
  },
  {
   "cell_type": "markdown",
   "metadata": {},
   "source": [
    "The standard score of a sample X is calculated as: z = (X - μ) / σ²"
   ]
  },
  {
   "cell_type": "code",
   "execution_count": null,
   "metadata": {
    "pycharm": {
     "name": "#%%\n"
    }
   },
   "outputs": [],
   "source": [
    "if standardize == True:\n",
    "    ss = StandardScaler()\n",
    "    ss.fit(X=x_train[numerics_columns])\n",
    "    x_train = ss.transform(X=x_train[numerics_columns])"
   ]
  },
  {
   "cell_type": "markdown",
   "metadata": {},
   "source": [
    "usa (X-μ / √σ²) sul test"
   ]
  },
  {
   "cell_type": "code",
   "execution_count": null,
   "metadata": {
    "pycharm": {
     "name": "#%%\n"
    }
   },
   "outputs": [],
   "source": [
    "if standardize == True:\n",
    "    centered_df = x_test[numerics_columns] - ss.mean_\n",
    "    x_test = centered_df / (ss.var_ ** 0.5)\n",
    "    x_test = x_test.to_numpy()"
   ]
  },
  {
   "cell_type": "markdown",
   "metadata": {},
   "source": [
    "X train"
   ]
  },
  {
   "cell_type": "code",
   "execution_count": null,
   "metadata": {
    "pycharm": {
     "name": "#%%\n"
    }
   },
   "outputs": [],
   "source": [
    "pandas.DataFrame(x_train)"
   ]
  },
  {
   "cell_type": "markdown",
   "metadata": {},
   "source": [
    "### Elaborazione per range di ɑ"
   ]
  },
  {
   "cell_type": "code",
   "execution_count": null,
   "metadata": {
    "pycharm": {
     "name": "#%%\n"
    }
   },
   "outputs": [],
   "source": [
    "scores_c = []\n",
    "scores_s = []\n",
    "\n",
    "for ɑ in alphas:\n",
    "    cholesky = Ridge(alpha=ɑ, solver='cholesky', fit_intercept=fit_intercept, normalize=normalize)\n",
    "    svd = Ridge(alpha=ɑ, solver='svd', fit_intercept=fit_intercept, normalize=normalize)\n",
    "\n",
    "    cholesky.fit(x_train, y_train)\n",
    "    svd.fit(x_train, y_train)\n",
    "\n",
    "    # Return the coefficient of determination R² of the prediction.\n",
    "    score_c = cholesky.score(x_test, y_test)\n",
    "    score_s = svd.score(x_test, y_test)\n",
    "\n",
    "    scores_c.append(score_c)\n",
    "    scores_s.append(score_s)\n",
    "\n",
    "plt.figure(figsize=(15, 7))\n",
    "\n",
    "plt.plot(alphas, scores_c, label='Cholesky')\n",
    "plt.plot(alphas, scores_s, label='SVD')\n",
    "\n",
    "plt.xlabel(\"ɑ\")\n",
    "plt.ylabel(\"R²\")\n",
    "\n",
    "plt.legend()\n",
    "plt.grid()\n",
    "plt.show()"
   ]
  },
  {
   "cell_type": "code",
   "execution_count": null,
   "metadata": {
    "pycharm": {
     "name": "#%%\n"
    }
   },
   "outputs": [],
   "source": [
    "idx_max_c = numpy.argmax(scores_c)\n",
    "idx_max_s = numpy.argmax(scores_s)\n",
    "\n",
    "best_alpha_c = alphas[idx_max_c]\n",
    "best_alpha_s = alphas[idx_max_s]\n",
    "\n",
    "print(f'Cholesky best ɑ: {best_alpha_c}')\n",
    "print(f'Cholesky best score: {scores_c[idx_max_c]}')\n",
    "\n",
    "print(f'SVD best ɑ: {best_alpha_s}')\n",
    "print(f'SVD best score: {scores_s[idx_max_s]}')"
   ]
  },
  {
   "cell_type": "code",
   "execution_count": null,
   "metadata": {},
   "outputs": [],
   "source": [
    "cholesky = Ridge(alpha=best_alpha_c, solver='cholesky', fit_intercept=fit_intercept, normalize=normalize)\n",
    "svd = Ridge(alpha=best_alpha_s, solver='svd', fit_intercept=fit_intercept, normalize=normalize)\n",
    "\n",
    "cholesky.fit(x_train, y_train, best_alpha_c)\n",
    "svd.fit(x_train, y_train, best_alpha_s)\n",
    "\n",
    "y_predict_c = cholesky.predict(x_test)\n",
    "y_predict_s = svd.predict(x_test)"
   ]
  },
  {
   "cell_type": "code",
   "execution_count": null,
   "metadata": {
    "pycharm": {
     "name": "#%%\n"
    }
   },
   "outputs": [],
   "source": [
    "fig, (ax1, ax2) = plt.subplots(2, figsize=(15, 15))\n",
    "\n",
    "ax1.set_title('Real vs Predicted - Cholesky')\n",
    "ax2.set_title('Real vs Predicted - SVD')\n",
    "\n",
    "seaborn.regplot(y_predict_c, y_test, scatter_kws={'alpha':0.5}, ax=ax1)\n",
    "seaborn.regplot(y_predict_s, y_test, scatter_kws={'alpha':0.5}, ax=ax2)\n",
    "\n",
    "ax1.set_xlabel('Predicted')\n",
    "ax1.set_ylabel('Real')\n",
    "ax2.set_xlabel('Predicted')\n",
    "ax2.set_ylabel('Real')\n",
    "\n",
    "ax1.grid()\n",
    "ax2.grid()\n",
    "\n",
    "plt.show()"
   ]
  },
  {
   "cell_type": "markdown",
   "metadata": {},
   "source": [
    "----------------\n",
    "## Cross-validation\n",
    "\n",
    "### Cross-validated risk estimate\n",
    "Cross Validation is is a method that allows to perform selection and  validation of the learning algorithm. \n",
    "\n",
    "Set aside a portion of the data for the test set and perform multiple interations on the training data, splitted in k-folds and validate the hyperparameter to one fold per time . Then compare to the test data.\n",
    "\n",
    "Method for comparing is the root mean squared error.\n",
    "\n",
    "Normalize to get values normalized\n",
    "\n",
    "Use the 5-fold cross validation"
   ]
  },
  {
   "cell_type": "markdown",
   "metadata": {},
   "source": [
    "#### K-Folds cross-validator\n",
    "Provides train/test indices to split data in train/test sets.\n",
    "\n",
    "Split dataset into k consecutive folds (without shuffling by default).\n",
    "\n",
    "Each fold is then used once as a validation while the k - 1 remaining folds form the training set."
   ]
  },
  {
   "cell_type": "code",
   "execution_count": null,
   "metadata": {},
   "outputs": [],
   "source": [
    "scores_c = []\n",
    "scores_s = []\n",
    "\n",
    "kf = KFold(n_splits=5, shuffle=shuffleDataSet)\n",
    "\n",
    "for ɑ in alphas:\n",
    "    k_scores_c = []\n",
    "    k_scores_s = []\n",
    "    \n",
    "    for train_index, test_index in kf.split(X):\n",
    "        x_train, x_test = X.iloc[train_index], X.iloc[test_index]\n",
    "        y_train, y_test = y.iloc[train_index], y.iloc[test_index]\n",
    "        \n",
    "        cholesky = Ridge(alpha=ɑ, solver='cholesky', fit_intercept=fit_intercept, normalize=normalize)\n",
    "        svd = Ridge(alpha=ɑ, solver='svd', fit_intercept=fit_intercept, normalize=normalize)\n",
    "        \n",
    "        cholesky.fit(x_train, y_train)\n",
    "        svd.fit(x_train, y_train)\n",
    "\n",
    "        # Return the coefficient of determination R² of the prediction.\n",
    "        score_c = cholesky.score(x_test, y_test)\n",
    "        score_s = svd.score(x_test, y_test)\n",
    "\n",
    "        k_scores_c.append(score_c)\n",
    "        k_scores_s.append(score_s)\n",
    "        \n",
    "    scores_c.append(numpy.mean(k_scores_c))\n",
    "    scores_s.append(numpy.mean(k_scores_s))"
   ]
  },
  {
   "cell_type": "code",
   "execution_count": null,
   "metadata": {},
   "outputs": [],
   "source": [
    "idx_max_c = numpy.argmax(scores_c)\n",
    "idx_max_s = numpy.argmax(scores_s)\n",
    "\n",
    "best_alpha_c = alphas[idx_max_c]\n",
    "best_alpha_s = alphas[idx_max_s]\n",
    "\n",
    "print(f'Cholesky best ɑ: {best_alpha_c}')\n",
    "print(f'Cholesky best score: {scores_c[idx_max_c]}')\n",
    "\n",
    "print(f'SVD best ɑ: {best_alpha_s}')\n",
    "print(f'SVD best score: {scores_s[idx_max_s]}')"
   ]
  },
  {
   "cell_type": "code",
   "execution_count": null,
   "metadata": {
    "pycharm": {
     "name": "#%%\n"
    }
   },
   "outputs": [],
   "source": [
    "plt.figure(figsize=(15, 7))\n",
    "plt.xlabel('ɑ')\n",
    "plt.ylabel('R²')\n",
    "\n",
    "plt.plot(alphas, scores_c, label='Cholesky')\n",
    "plt.plot(alphas, scores_s, label='SVD')\n",
    "\n",
    "plt.legend()\n",
    "plt.grid()\n",
    "plt.show()"
   ]
  },
  {
   "cell_type": "code",
   "execution_count": null,
   "metadata": {
    "pycharm": {
     "name": "#%%\n"
    }
   },
   "outputs": [],
   "source": [
    "idx_max_c = numpy.argmax(scores_c)\n",
    "idx_max_s = numpy.argmax(scores_s)\n",
    "\n",
    "if best_alpha_c == alphas[idx_max_c]:\n",
    "    print('Il valore di ɑ per Cholesky è invariato!')\n",
    "else:    \n",
    "    best_alpha_c = alphas[idx_max_c]\n",
    "    print(f'Cholesky best ɑ: {best_alpha_c}')\n",
    "\n",
    "if best_alpha_s == alphas[idx_max_s]:\n",
    "    print('Il valore di ɑ per SVD è invariato!')\n",
    "else:    \n",
    "    best_alpha_s = alphas[idx_max_s]\n",
    "    print(f'SVD best ɑ: {best_alpha_s}')"
   ]
  },
  {
   "cell_type": "code",
   "execution_count": null,
   "metadata": {
    "pycharm": {
     "name": "#%%\n"
    }
   },
   "outputs": [],
   "source": [
    "if best_alpha_c != alphas[idx_max_c]:\n",
    "    cholesky = Ridge(alpha=best_alpha_c, solver='cholesky', fit_intercept=fit_intercept, normalize=normalize)\n",
    "    cholesky.fit(x_train, y_train, best_alpha_c)\n",
    "    y_predict_c = cholesky.predict(x_test)\n",
    "    score_c = cholesky.score(x_test, y_test)\n",
    "    print(f'Cholesky score: {score_c}')\n",
    "\n",
    "if best_alpha_s != alphas[idx_max_s]:\n",
    "    svd = Ridge(alpha=best_alpha_s, solver='svd', fit_intercept=fit_intercept, normalize=normalize)\n",
    "    svd.fit(x_train, y_train, best_alpha_s)\n",
    "    y_predict_s = svd.predict(x_test)\n",
    "    score_s = svd.score(x_test, y_test)\n",
    "    print(f'SVD score: {score_s}')"
   ]
  },
  {
   "cell_type": "code",
   "execution_count": null,
   "metadata": {},
   "outputs": [],
   "source": [
    "if best_alpha_c != alphas[idx_max_c] or best_alpha_s != alphas[idx_max_s]:\n",
    "    fig, (ax1, ax2) = plt.subplots(2, figsize=(15, 15))\n",
    "\n",
    "    ax1.set_title('Real vs Predicted - Cholesky')\n",
    "    ax2.set_title('Real vs Predicted - SVD')\n",
    "\n",
    "    seaborn.regplot(y_predict_c, y_test, scatter_kws={'alpha':0.5}, ax=ax1)\n",
    "    seaborn.regplot(y_predict_s, y_test, scatter_kws={'alpha':0.5}, ax=ax2)\n",
    "\n",
    "    ax1.set_xlabel('Predicted')\n",
    "    ax1.set_ylabel('Real')\n",
    "    ax2.set_xlabel('Predicted')\n",
    "    ax2.set_ylabel('Real')\n",
    "\n",
    "    ax1.grid()\n",
    "    ax2.grid()\n",
    "\n",
    "    plt.show()"
   ]
  },
  {
   "cell_type": "markdown",
   "metadata": {},
   "source": [
    "----------------\n",
    "## Nested cross-validation"
   ]
  },
  {
   "cell_type": "markdown",
   "metadata": {},
   "source": [
    "### GridSearchCV\n",
    "Exhaustive search over specified parameter values for an estimator.\n",
    "\n",
    "Important members are fit, predict.\n",
    "\n",
    "GridSearchCV implements a “fit” and a “score” method. It also implements “predict”, “predict_proba”, “decision_function”, “transform” and “inverse_transform” if they are implemented in the estimator used.\n",
    "\n",
    "The parameters of the estimator used to apply these methods are optimized by cross-validated grid-search over a parameter grid."
   ]
  },
  {
   "cell_type": "code",
   "execution_count": null,
   "metadata": {},
   "outputs": [],
   "source": [
    "p_grid = {\"alpha\": alphas}\n",
    "\n",
    "cholesky = Ridge(solver='cholesky', fit_intercept=fit_intercept, normalize=normalize)\n",
    "\n",
    "non_nested_scores = numpy.zeros(nested_cross_validation_trials)\n",
    "nested_scores = numpy.zeros(nested_cross_validation_trials)\n",
    "\n",
    "for i in range(nested_cross_validation_trials):\n",
    "    # Choose cross-validation techniques for the inner and outer loops, independently of the dataset\n",
    "    inner_cv = KFold(n_splits=5, shuffle=shuffleDataSet)\n",
    "    outer_cv = KFold(n_splits=5, shuffle=shuffleDataSet)\n",
    "\n",
    "    # Non_nested parameter search and scoring\n",
    "    clf = GridSearchCV(estimator=cholesky, param_grid=p_grid, cv=inner_cv, n_jobs=-1)\n",
    "    clf.fit(X, y)\n",
    "    \n",
    "    non_nested_scores[i] = clf.best_score_\n",
    "\n",
    "    # Nested CV with parameter optimization\n",
    "    nested_score = cross_val_score(clf, X=X, y=y, cv=outer_cv, n_jobs=-1)\n",
    "    nested_scores[i] = nested_score.mean()"
   ]
  },
  {
   "cell_type": "code",
   "execution_count": null,
   "metadata": {},
   "outputs": [],
   "source": [
    "score_difference = non_nested_scores - nested_scores\n",
    "print(\"Average difference of {:6f} with std. dev. of {:6f}.\".format(score_difference.mean(), score_difference.std()))"
   ]
  },
  {
   "cell_type": "code",
   "execution_count": null,
   "metadata": {},
   "outputs": [],
   "source": [
    "# Plot scores on each trial for nested and non-nested CV\n",
    "plt.figure(figsize=(15, 15))\n",
    "plt.subplot(211)\n",
    "\n",
    "non_nested_scores_line, = plt.plot(non_nested_scores)\n",
    "nested_line, = plt.plot(nested_scores)\n",
    "\n",
    "plt.ylabel(\"score\")\n",
    "plt.grid()\n",
    "plt.legend([non_nested_scores_line, nested_line], [\"Non-Nested CV\", \"Nested CV\"])\n",
    "plt.title(\"Non-Nested and Nested Cross Validation\")\n",
    "\n",
    "# Plot bar chart of the difference.\n",
    "plt.subplot(212)\n",
    "difference_plot = plt.bar(range(nested_cross_validation_trials), score_difference)\n",
    "\n",
    "plt.xlabel(\"Individual Trial #\")\n",
    "\n",
    "plt.grid()\n",
    "plt.legend([difference_plot], [\"Non-Nested CV - Nested CV Score\"])\n",
    "plt.ylabel(\"score difference\")\n",
    "\n",
    "plt.show()"
   ]
  },
  {
   "cell_type": "markdown",
   "metadata": {},
   "source": [
    "----------------\n",
    "## Principal component analysis (PCA).\n",
    "\n",
    "Linear dimensionality reduction using Singular Value Decomposition of the data to project it to a lower dimensional space. The input data is centered but not scaled for each feature before applying the SVD."
   ]
  },
  {
   "cell_type": "code",
   "execution_count": null,
   "metadata": {},
   "outputs": [],
   "source": [
    "cholesky = Ridge(alpha=best_alpha_c, solver='cholesky', fit_intercept=fit_intercept, normalize=normalize)"
   ]
  },
  {
   "cell_type": "code",
   "execution_count": null,
   "metadata": {},
   "outputs": [],
   "source": [
    "coef_list = []\n",
    "\n",
    "for s in sizes:\n",
    "    X_train, X_test, y_train, y_test = train_test_split(X, y, test_size=0.4, shuffle=shuffleDataSet)\n",
    "    cholesky.fit(X_train, y_train)\n",
    "    coef_list.append(cholesky.coef_)\n",
    "\n",
    "coef_matrix = numpy.array(coef_list)\n",
    "\n",
    "pca = PCA(n_components=2)\n",
    "pca.fit(coef_matrix)\n",
    "coef_pca = pca.transform(coef_matrix)\n",
    "\n",
    "plt.figure(figsize=(15, 7))\n",
    "plt.grid()\n",
    "plt.scatter(coef_pca[:,0], coef_pca[:,1])\n",
    "plt.show()"
   ]
  },
  {
   "cell_type": "code",
   "execution_count": null,
   "metadata": {},
   "outputs": [],
   "source": [
    "pca = PCA(n_components=X.shape[1])\n",
    "pca.fit(X)\n",
    "\n",
    "X_pca = pca.transform(X)"
   ]
  },
  {
   "cell_type": "code",
   "execution_count": null,
   "metadata": {},
   "outputs": [],
   "source": [
    "plt.figure(figsize=(15, 7))\n",
    "plt.title('PCA')\n",
    "\n",
    "plt.plot(pca.singular_values_, label='Singular values')\n",
    "\n",
    "plt.grid()\n",
    "plt.legend()\n",
    "plt.show()"
   ]
  },
  {
   "cell_type": "markdown",
   "metadata": {},
   "source": [
    "We project all the datapoints on the five principal components. Then we check the learning curve again."
   ]
  },
  {
   "cell_type": "code",
   "execution_count": null,
   "metadata": {},
   "outputs": [],
   "source": [
    "pca = PCA(n_components=5)\n",
    "pca.fit(X)\n",
    "\n",
    "X_pca = pca.transform(X)\n",
    "\n",
    "# Returns:\n",
    "# -Numbers of training examples that has been used to generate the learning curve. Note that the number of ticks might be less than n_ticks because duplicate entries will be removed;\n",
    "# -Scores on training sets;\n",
    "# -Scores on test set.\n",
    "train_size, train_score, val_score = learning_curve(cholesky, X_pca, y, train_sizes=sizes, cv=5, scoring=scoring, n_jobs=-1)\n",
    "\n",
    "train_score_mean = scoring_neg * numpy.mean(train_score, axis=1)\n",
    "train_score_std = numpy.std(train_score, axis=1)\n",
    "val_score_mean = scoring_neg * numpy.mean(val_score, axis=1)\n",
    "val_score_std = numpy.std(val_score, axis=1)"
   ]
  },
  {
   "cell_type": "code",
   "execution_count": null,
   "metadata": {},
   "outputs": [],
   "source": [
    "plt.figure(figsize=(15, 15))\n",
    "plt.title('PCA Linear Regression')\n",
    "\n",
    "plt.fill_between(sizes, train_score_mean - train_score_std, train_score_mean + train_score_std, alpha=0.1, color=\"r\")\n",
    "plt.fill_between(sizes, val_score_mean - val_score_std, val_score_mean + val_score_std, alpha=0.1, color=\"g\")\n",
    "\n",
    "plt.plot(sizes, train_score_mean, 'o-', color=\"r\", label=\"Training error\")\n",
    "plt.plot(sizes, val_score_mean, 'o-', color=\"g\", label=\"CV risk estimate\")\n",
    "\n",
    "plt.xlabel('Training size')\n",
    "plt.ylabel(scoring_label)\n",
    "\n",
    "plt.grid()\n",
    "plt.legend()\n",
    "plt.show()"
   ]
  },
  {
   "cell_type": "code",
   "execution_count": null,
   "metadata": {},
   "outputs": [],
   "source": [
    "coef_list = []\n",
    "\n",
    "for s in sizes:\n",
    "    X_train, X_test, y_train, y_test = train_test_split(X_pca, y, train_size=s, shuffle=shuffleDataSet)\n",
    "    cholesky.fit(X_train, y_train)\n",
    "    coef_list.append(cholesky.coef_)\n",
    "    \n",
    "coef_matrix = numpy.array(coef_list)\n",
    "\n",
    "pca = PCA(n_components=2)\n",
    "pca.fit(coef_matrix)\n",
    "coef_pca = pca.transform(coef_matrix)\n",
    "\n",
    "plt.figure(figsize=(15, 7))\n",
    "plt.grid()\n",
    "plt.scatter(coef_pca[:,0], coef_pca[:,1])\n",
    "plt.show()"
   ]
  }
 ],
 "metadata": {
  "kernelspec": {
   "display_name": "Python 3",
   "language": "python",
   "name": "python3"
  },
  "language_info": {
   "codemirror_mode": {
    "name": "ipython",
    "version": 3
   },
   "file_extension": ".py",
   "mimetype": "text/x-python",
   "name": "python",
   "nbconvert_exporter": "python",
   "pygments_lexer": "ipython3",
   "version": "3.7.4"
  }
 },
 "nbformat": 4,
 "nbformat_minor": 2
}
