{
 "cells": [
  {
   "cell_type": "code",
   "execution_count": 1,
   "metadata": {},
   "outputs": [],
   "source": [
    "import numpy\n",
    "import pandas\n",
    "import seaborn\n",
    "import matplotlib.pyplot as plt\n",
    "\n",
    "from sklearn.metrics import mean_squared_error, r2_score\n",
    "from sklearn.linear_model import LinearRegression, Ridge, Lasso\n",
    "from sklearn.decomposition import PCA\n",
    "from sklearn.preprocessing import LabelEncoder, MinMaxScaler, StandardScaler, RobustScaler, MaxAbsScaler, Normalizer\n",
    "from sklearn.model_selection import learning_curve, validation_curve, cross_val_score, train_test_split, KFold, GridSearchCV\n",
    "from sklearn import decomposition\n",
    "\n",
    "from plotting import Plotting\n",
    "from lasso import Lasso\n",
    "from cholesky import Cholesky\n"
   ]
  },
  {
   "cell_type": "code",
   "execution_count": 2,
   "metadata": {},
   "outputs": [],
   "source": [
    "#scoring = 'r2'\n",
    "#scoring_neg = False\n",
    "#scoring_label = 'R²'\n",
    "#scoring_label_loss = 'R²'\n",
    "\n",
    "scoring = 'neg_mean_squared_error'\n",
    "scoring_neg = True\n",
    "scoring_label = 'MSE'\n",
    "scoring_label_loss = 'Squared loss'"
   ]
  },
  {
   "cell_type": "code",
   "execution_count": 3,
   "metadata": {},
   "outputs": [],
   "source": [
    "column_to_predict = 'median_house_value'\n",
    "categories_columns = ['ocean_proximity']\n",
    "numerics_columns = [\"longitude\", \"latitude\", \"housing_median_age\", \"total_rooms\", \"total_bedrooms\", \"population\", \"households\", \"median_income\"]"
   ]
  },
  {
   "cell_type": "code",
   "execution_count": 4,
   "metadata": {},
   "outputs": [],
   "source": [
    "data_frame = pandas.read_csv(filepath_or_buffer='cal-housing.csv')"
   ]
  },
  {
   "cell_type": "code",
   "execution_count": 5,
   "metadata": {},
   "outputs": [],
   "source": [
    "for c in data_frame.columns:\n",
    "    if data_frame[c].hasnans:\n",
    "        m = data_frame[c].mean()\n",
    "        data_frame[c].fillna(value=m, inplace=True)"
   ]
  },
  {
   "cell_type": "code",
   "execution_count": 6,
   "metadata": {},
   "outputs": [],
   "source": [
    "useLabelEncoder = False\n",
    "useColumnCat = True\n",
    "\n",
    "if useLabelEncoder:\n",
    "    labelencoder = LabelEncoder()\n",
    "\n",
    "    for c in categories_columns:\n",
    "        c_name = c + '_cat'\n",
    "        data_frame[c_name] = labelencoder.fit_transform(data_frame[c])\n",
    "        numerics_columns.append(c_name)\n",
    "\n",
    "    data_frame.drop(columns=categories_columns, inplace=True)\n",
    "elif useColumnCat:\n",
    "    # genera le colonne per ogni elemento di una colonna categoria\n",
    "    columns_categories = pandas.DataFrame()\n",
    "\n",
    "    for c in categories_columns:\n",
    "        column = pandas.get_dummies(data=data_frame[c], prefix=c + '_')        \n",
    "        columns_categories = pandas.concat((columns_categories, column), axis=1)\n",
    "\n",
    "    for col in columns_categories.columns: \n",
    "        numerics_columns.append(col)\n",
    "        \n",
    "    # elimina le colonne categoria\n",
    "    data_frame.drop(columns=categories_columns, inplace=True)\n",
    "\n",
    "    # aggiungi le colonne per ogni elemento di una colonna categoria\n",
    "    data_frame = pandas.concat([data_frame, columns_categories], axis=1)\n",
    "else:\n",
    "    data_frame['ocean_proximity'].replace(['INLAND', '<1H OCEAN', 'NEAR OCEAN', 'ISLAND', 'NEAR BAY'], [1, 20, 100, 1500, 500], inplace=True)\n",
    "    numerics_columns.append('ocean_proximity')"
   ]
  },
  {
   "cell_type": "code",
   "execution_count": 7,
   "metadata": {},
   "outputs": [],
   "source": [
    "columns_to_remove = []\n",
    "columns_to_use = list(data_frame.columns)\n",
    "\n",
    "for u in columns_to_remove:\n",
    "    columns_to_use.remove(u)\n",
    "    if numerics_columns.count(u) > 0:\n",
    "        numerics_columns.remove(u)\n",
    "        \n",
    "data_frame.drop(columns=columns_to_remove, inplace=True)\n",
    "\n",
    "X = data_frame[numerics_columns]\n",
    "y = data_frame[column_to_predict]"
   ]
  },
  {
   "cell_type": "code",
   "execution_count": 8,
   "metadata": {},
   "outputs": [
    {
     "data": {
      "text/html": [
       "<div>\n",
       "<style scoped>\n",
       "    .dataframe tbody tr th:only-of-type {\n",
       "        vertical-align: middle;\n",
       "    }\n",
       "\n",
       "    .dataframe tbody tr th {\n",
       "        vertical-align: top;\n",
       "    }\n",
       "\n",
       "    .dataframe thead th {\n",
       "        text-align: right;\n",
       "    }\n",
       "</style>\n",
       "<table border=\"1\" class=\"dataframe\">\n",
       "  <thead>\n",
       "    <tr style=\"text-align: right;\">\n",
       "      <th></th>\n",
       "      <th>longitude</th>\n",
       "      <th>latitude</th>\n",
       "      <th>housing_median_age</th>\n",
       "      <th>total_rooms</th>\n",
       "      <th>total_bedrooms</th>\n",
       "      <th>population</th>\n",
       "      <th>households</th>\n",
       "      <th>median_income</th>\n",
       "      <th>ocean_proximity__&lt;1H OCEAN</th>\n",
       "      <th>ocean_proximity__INLAND</th>\n",
       "      <th>ocean_proximity__ISLAND</th>\n",
       "      <th>ocean_proximity__NEAR BAY</th>\n",
       "      <th>ocean_proximity__NEAR OCEAN</th>\n",
       "    </tr>\n",
       "  </thead>\n",
       "  <tbody>\n",
       "    <tr>\n",
       "      <th>0</th>\n",
       "      <td>-122.23</td>\n",
       "      <td>37.88</td>\n",
       "      <td>41.0</td>\n",
       "      <td>880.0</td>\n",
       "      <td>129.0</td>\n",
       "      <td>322.0</td>\n",
       "      <td>126.0</td>\n",
       "      <td>8.3252</td>\n",
       "      <td>0</td>\n",
       "      <td>0</td>\n",
       "      <td>0</td>\n",
       "      <td>1</td>\n",
       "      <td>0</td>\n",
       "    </tr>\n",
       "    <tr>\n",
       "      <th>1</th>\n",
       "      <td>-122.22</td>\n",
       "      <td>37.86</td>\n",
       "      <td>21.0</td>\n",
       "      <td>7099.0</td>\n",
       "      <td>1106.0</td>\n",
       "      <td>2401.0</td>\n",
       "      <td>1138.0</td>\n",
       "      <td>8.3014</td>\n",
       "      <td>0</td>\n",
       "      <td>0</td>\n",
       "      <td>0</td>\n",
       "      <td>1</td>\n",
       "      <td>0</td>\n",
       "    </tr>\n",
       "    <tr>\n",
       "      <th>2</th>\n",
       "      <td>-122.24</td>\n",
       "      <td>37.85</td>\n",
       "      <td>52.0</td>\n",
       "      <td>1467.0</td>\n",
       "      <td>190.0</td>\n",
       "      <td>496.0</td>\n",
       "      <td>177.0</td>\n",
       "      <td>7.2574</td>\n",
       "      <td>0</td>\n",
       "      <td>0</td>\n",
       "      <td>0</td>\n",
       "      <td>1</td>\n",
       "      <td>0</td>\n",
       "    </tr>\n",
       "    <tr>\n",
       "      <th>3</th>\n",
       "      <td>-122.25</td>\n",
       "      <td>37.85</td>\n",
       "      <td>52.0</td>\n",
       "      <td>1274.0</td>\n",
       "      <td>235.0</td>\n",
       "      <td>558.0</td>\n",
       "      <td>219.0</td>\n",
       "      <td>5.6431</td>\n",
       "      <td>0</td>\n",
       "      <td>0</td>\n",
       "      <td>0</td>\n",
       "      <td>1</td>\n",
       "      <td>0</td>\n",
       "    </tr>\n",
       "    <tr>\n",
       "      <th>4</th>\n",
       "      <td>-122.25</td>\n",
       "      <td>37.85</td>\n",
       "      <td>52.0</td>\n",
       "      <td>1627.0</td>\n",
       "      <td>280.0</td>\n",
       "      <td>565.0</td>\n",
       "      <td>259.0</td>\n",
       "      <td>3.8462</td>\n",
       "      <td>0</td>\n",
       "      <td>0</td>\n",
       "      <td>0</td>\n",
       "      <td>1</td>\n",
       "      <td>0</td>\n",
       "    </tr>\n",
       "    <tr>\n",
       "      <th>...</th>\n",
       "      <td>...</td>\n",
       "      <td>...</td>\n",
       "      <td>...</td>\n",
       "      <td>...</td>\n",
       "      <td>...</td>\n",
       "      <td>...</td>\n",
       "      <td>...</td>\n",
       "      <td>...</td>\n",
       "      <td>...</td>\n",
       "      <td>...</td>\n",
       "      <td>...</td>\n",
       "      <td>...</td>\n",
       "      <td>...</td>\n",
       "    </tr>\n",
       "    <tr>\n",
       "      <th>20635</th>\n",
       "      <td>-121.09</td>\n",
       "      <td>39.48</td>\n",
       "      <td>25.0</td>\n",
       "      <td>1665.0</td>\n",
       "      <td>374.0</td>\n",
       "      <td>845.0</td>\n",
       "      <td>330.0</td>\n",
       "      <td>1.5603</td>\n",
       "      <td>0</td>\n",
       "      <td>1</td>\n",
       "      <td>0</td>\n",
       "      <td>0</td>\n",
       "      <td>0</td>\n",
       "    </tr>\n",
       "    <tr>\n",
       "      <th>20636</th>\n",
       "      <td>-121.21</td>\n",
       "      <td>39.49</td>\n",
       "      <td>18.0</td>\n",
       "      <td>697.0</td>\n",
       "      <td>150.0</td>\n",
       "      <td>356.0</td>\n",
       "      <td>114.0</td>\n",
       "      <td>2.5568</td>\n",
       "      <td>0</td>\n",
       "      <td>1</td>\n",
       "      <td>0</td>\n",
       "      <td>0</td>\n",
       "      <td>0</td>\n",
       "    </tr>\n",
       "    <tr>\n",
       "      <th>20637</th>\n",
       "      <td>-121.22</td>\n",
       "      <td>39.43</td>\n",
       "      <td>17.0</td>\n",
       "      <td>2254.0</td>\n",
       "      <td>485.0</td>\n",
       "      <td>1007.0</td>\n",
       "      <td>433.0</td>\n",
       "      <td>1.7000</td>\n",
       "      <td>0</td>\n",
       "      <td>1</td>\n",
       "      <td>0</td>\n",
       "      <td>0</td>\n",
       "      <td>0</td>\n",
       "    </tr>\n",
       "    <tr>\n",
       "      <th>20638</th>\n",
       "      <td>-121.32</td>\n",
       "      <td>39.43</td>\n",
       "      <td>18.0</td>\n",
       "      <td>1860.0</td>\n",
       "      <td>409.0</td>\n",
       "      <td>741.0</td>\n",
       "      <td>349.0</td>\n",
       "      <td>1.8672</td>\n",
       "      <td>0</td>\n",
       "      <td>1</td>\n",
       "      <td>0</td>\n",
       "      <td>0</td>\n",
       "      <td>0</td>\n",
       "    </tr>\n",
       "    <tr>\n",
       "      <th>20639</th>\n",
       "      <td>-121.24</td>\n",
       "      <td>39.37</td>\n",
       "      <td>16.0</td>\n",
       "      <td>2785.0</td>\n",
       "      <td>616.0</td>\n",
       "      <td>1387.0</td>\n",
       "      <td>530.0</td>\n",
       "      <td>2.3886</td>\n",
       "      <td>0</td>\n",
       "      <td>1</td>\n",
       "      <td>0</td>\n",
       "      <td>0</td>\n",
       "      <td>0</td>\n",
       "    </tr>\n",
       "  </tbody>\n",
       "</table>\n",
       "<p>20640 rows × 13 columns</p>\n",
       "</div>"
      ],
      "text/plain": [
       "       longitude  latitude  housing_median_age  total_rooms  total_bedrooms  \\\n",
       "0        -122.23     37.88                41.0        880.0           129.0   \n",
       "1        -122.22     37.86                21.0       7099.0          1106.0   \n",
       "2        -122.24     37.85                52.0       1467.0           190.0   \n",
       "3        -122.25     37.85                52.0       1274.0           235.0   \n",
       "4        -122.25     37.85                52.0       1627.0           280.0   \n",
       "...          ...       ...                 ...          ...             ...   \n",
       "20635    -121.09     39.48                25.0       1665.0           374.0   \n",
       "20636    -121.21     39.49                18.0        697.0           150.0   \n",
       "20637    -121.22     39.43                17.0       2254.0           485.0   \n",
       "20638    -121.32     39.43                18.0       1860.0           409.0   \n",
       "20639    -121.24     39.37                16.0       2785.0           616.0   \n",
       "\n",
       "       population  households  median_income  ocean_proximity__<1H OCEAN  \\\n",
       "0           322.0       126.0         8.3252                           0   \n",
       "1          2401.0      1138.0         8.3014                           0   \n",
       "2           496.0       177.0         7.2574                           0   \n",
       "3           558.0       219.0         5.6431                           0   \n",
       "4           565.0       259.0         3.8462                           0   \n",
       "...           ...         ...            ...                         ...   \n",
       "20635       845.0       330.0         1.5603                           0   \n",
       "20636       356.0       114.0         2.5568                           0   \n",
       "20637      1007.0       433.0         1.7000                           0   \n",
       "20638       741.0       349.0         1.8672                           0   \n",
       "20639      1387.0       530.0         2.3886                           0   \n",
       "\n",
       "       ocean_proximity__INLAND  ocean_proximity__ISLAND  \\\n",
       "0                            0                        0   \n",
       "1                            0                        0   \n",
       "2                            0                        0   \n",
       "3                            0                        0   \n",
       "4                            0                        0   \n",
       "...                        ...                      ...   \n",
       "20635                        1                        0   \n",
       "20636                        1                        0   \n",
       "20637                        1                        0   \n",
       "20638                        1                        0   \n",
       "20639                        1                        0   \n",
       "\n",
       "       ocean_proximity__NEAR BAY  ocean_proximity__NEAR OCEAN  \n",
       "0                              1                            0  \n",
       "1                              1                            0  \n",
       "2                              1                            0  \n",
       "3                              1                            0  \n",
       "4                              1                            0  \n",
       "...                          ...                          ...  \n",
       "20635                          0                            0  \n",
       "20636                          0                            0  \n",
       "20637                          0                            0  \n",
       "20638                          0                            0  \n",
       "20639                          0                            0  \n",
       "\n",
       "[20640 rows x 13 columns]"
      ]
     },
     "execution_count": 8,
     "metadata": {},
     "output_type": "execute_result"
    }
   ],
   "source": [
    "X"
   ]
  },
  {
   "cell_type": "code",
   "execution_count": 9,
   "metadata": {},
   "outputs": [
    {
     "data": {
      "text/plain": [
       "0        452600.0\n",
       "1        358500.0\n",
       "2        352100.0\n",
       "3        341300.0\n",
       "4        342200.0\n",
       "           ...   \n",
       "20635     78100.0\n",
       "20636     77100.0\n",
       "20637     92300.0\n",
       "20638     84700.0\n",
       "20639     89400.0\n",
       "Name: median_house_value, Length: 20640, dtype: float64"
      ]
     },
     "execution_count": 9,
     "metadata": {},
     "output_type": "execute_result"
    }
   ],
   "source": [
    "y"
   ]
  },
  {
   "cell_type": "code",
   "execution_count": 10,
   "metadata": {},
   "outputs": [],
   "source": [
    "useMinMaxScaler = True\n",
    "if useMinMaxScaler:\n",
    "    column_to_predict_idx = data_frame.columns.get_loc(column_to_predict)\n",
    "    cols = list(range(0, data_frame.shape[1]))\n",
    "    cols.remove(column_to_predict_idx)\n",
    "\n",
    "    scaler = MinMaxScaler()\n",
    "    scaler.fit(data_frame)\n",
    "    data_frame = scaler.transform(data_frame)    \n",
    "    \n",
    "data_frame = pandas.DataFrame(data_frame, columns=columns_to_use)\n",
    "\n",
    "X = data_frame[numerics_columns]\n",
    "y = data_frame[column_to_predict]\n"
   ]
  },
  {
   "cell_type": "code",
   "execution_count": 11,
   "metadata": {},
   "outputs": [],
   "source": [
    "column_to_predict_idx = data_frame.columns.get_loc(column_to_predict)\n",
    "cols = list(range(0, data_frame.shape[1]))\n",
    "cols.remove(column_to_predict_idx)\n",
    "\n",
    "X = data_frame[numerics_columns]\n",
    "y = data_frame[column_to_predict]"
   ]
  },
  {
   "cell_type": "code",
   "execution_count": 12,
   "metadata": {},
   "outputs": [
    {
     "data": {
      "text/html": [
       "<div>\n",
       "<style scoped>\n",
       "    .dataframe tbody tr th:only-of-type {\n",
       "        vertical-align: middle;\n",
       "    }\n",
       "\n",
       "    .dataframe tbody tr th {\n",
       "        vertical-align: top;\n",
       "    }\n",
       "\n",
       "    .dataframe thead th {\n",
       "        text-align: right;\n",
       "    }\n",
       "</style>\n",
       "<table border=\"1\" class=\"dataframe\">\n",
       "  <thead>\n",
       "    <tr style=\"text-align: right;\">\n",
       "      <th></th>\n",
       "      <th>longitude</th>\n",
       "      <th>latitude</th>\n",
       "      <th>housing_median_age</th>\n",
       "      <th>total_rooms</th>\n",
       "      <th>total_bedrooms</th>\n",
       "      <th>population</th>\n",
       "      <th>households</th>\n",
       "      <th>median_income</th>\n",
       "      <th>ocean_proximity__&lt;1H OCEAN</th>\n",
       "      <th>ocean_proximity__INLAND</th>\n",
       "      <th>ocean_proximity__ISLAND</th>\n",
       "      <th>ocean_proximity__NEAR BAY</th>\n",
       "      <th>ocean_proximity__NEAR OCEAN</th>\n",
       "    </tr>\n",
       "  </thead>\n",
       "  <tbody>\n",
       "    <tr>\n",
       "      <th>0</th>\n",
       "      <td>0.211155</td>\n",
       "      <td>0.567481</td>\n",
       "      <td>0.784314</td>\n",
       "      <td>0.022331</td>\n",
       "      <td>0.019863</td>\n",
       "      <td>0.008941</td>\n",
       "      <td>0.020556</td>\n",
       "      <td>0.539668</td>\n",
       "      <td>0.0</td>\n",
       "      <td>0.0</td>\n",
       "      <td>0.0</td>\n",
       "      <td>1.0</td>\n",
       "      <td>0.0</td>\n",
       "    </tr>\n",
       "    <tr>\n",
       "      <th>1</th>\n",
       "      <td>0.212151</td>\n",
       "      <td>0.565356</td>\n",
       "      <td>0.392157</td>\n",
       "      <td>0.180503</td>\n",
       "      <td>0.171477</td>\n",
       "      <td>0.067210</td>\n",
       "      <td>0.186976</td>\n",
       "      <td>0.538027</td>\n",
       "      <td>0.0</td>\n",
       "      <td>0.0</td>\n",
       "      <td>0.0</td>\n",
       "      <td>1.0</td>\n",
       "      <td>0.0</td>\n",
       "    </tr>\n",
       "    <tr>\n",
       "      <th>2</th>\n",
       "      <td>0.210159</td>\n",
       "      <td>0.564293</td>\n",
       "      <td>1.000000</td>\n",
       "      <td>0.037260</td>\n",
       "      <td>0.029330</td>\n",
       "      <td>0.013818</td>\n",
       "      <td>0.028943</td>\n",
       "      <td>0.466028</td>\n",
       "      <td>0.0</td>\n",
       "      <td>0.0</td>\n",
       "      <td>0.0</td>\n",
       "      <td>1.0</td>\n",
       "      <td>0.0</td>\n",
       "    </tr>\n",
       "    <tr>\n",
       "      <th>3</th>\n",
       "      <td>0.209163</td>\n",
       "      <td>0.564293</td>\n",
       "      <td>1.000000</td>\n",
       "      <td>0.032352</td>\n",
       "      <td>0.036313</td>\n",
       "      <td>0.015555</td>\n",
       "      <td>0.035849</td>\n",
       "      <td>0.354699</td>\n",
       "      <td>0.0</td>\n",
       "      <td>0.0</td>\n",
       "      <td>0.0</td>\n",
       "      <td>1.0</td>\n",
       "      <td>0.0</td>\n",
       "    </tr>\n",
       "    <tr>\n",
       "      <th>4</th>\n",
       "      <td>0.209163</td>\n",
       "      <td>0.564293</td>\n",
       "      <td>1.000000</td>\n",
       "      <td>0.041330</td>\n",
       "      <td>0.043296</td>\n",
       "      <td>0.015752</td>\n",
       "      <td>0.042427</td>\n",
       "      <td>0.230776</td>\n",
       "      <td>0.0</td>\n",
       "      <td>0.0</td>\n",
       "      <td>0.0</td>\n",
       "      <td>1.0</td>\n",
       "      <td>0.0</td>\n",
       "    </tr>\n",
       "    <tr>\n",
       "      <th>...</th>\n",
       "      <td>...</td>\n",
       "      <td>...</td>\n",
       "      <td>...</td>\n",
       "      <td>...</td>\n",
       "      <td>...</td>\n",
       "      <td>...</td>\n",
       "      <td>...</td>\n",
       "      <td>...</td>\n",
       "      <td>...</td>\n",
       "      <td>...</td>\n",
       "      <td>...</td>\n",
       "      <td>...</td>\n",
       "      <td>...</td>\n",
       "    </tr>\n",
       "    <tr>\n",
       "      <th>20635</th>\n",
       "      <td>0.324701</td>\n",
       "      <td>0.737513</td>\n",
       "      <td>0.470588</td>\n",
       "      <td>0.042296</td>\n",
       "      <td>0.057883</td>\n",
       "      <td>0.023599</td>\n",
       "      <td>0.054103</td>\n",
       "      <td>0.073130</td>\n",
       "      <td>0.0</td>\n",
       "      <td>1.0</td>\n",
       "      <td>0.0</td>\n",
       "      <td>0.0</td>\n",
       "      <td>0.0</td>\n",
       "    </tr>\n",
       "    <tr>\n",
       "      <th>20636</th>\n",
       "      <td>0.312749</td>\n",
       "      <td>0.738576</td>\n",
       "      <td>0.333333</td>\n",
       "      <td>0.017676</td>\n",
       "      <td>0.023122</td>\n",
       "      <td>0.009894</td>\n",
       "      <td>0.018582</td>\n",
       "      <td>0.141853</td>\n",
       "      <td>0.0</td>\n",
       "      <td>1.0</td>\n",
       "      <td>0.0</td>\n",
       "      <td>0.0</td>\n",
       "      <td>0.0</td>\n",
       "    </tr>\n",
       "    <tr>\n",
       "      <th>20637</th>\n",
       "      <td>0.311753</td>\n",
       "      <td>0.732200</td>\n",
       "      <td>0.313725</td>\n",
       "      <td>0.057277</td>\n",
       "      <td>0.075109</td>\n",
       "      <td>0.028140</td>\n",
       "      <td>0.071041</td>\n",
       "      <td>0.082764</td>\n",
       "      <td>0.0</td>\n",
       "      <td>1.0</td>\n",
       "      <td>0.0</td>\n",
       "      <td>0.0</td>\n",
       "      <td>0.0</td>\n",
       "    </tr>\n",
       "    <tr>\n",
       "      <th>20638</th>\n",
       "      <td>0.301793</td>\n",
       "      <td>0.732200</td>\n",
       "      <td>0.333333</td>\n",
       "      <td>0.047256</td>\n",
       "      <td>0.063315</td>\n",
       "      <td>0.020684</td>\n",
       "      <td>0.057227</td>\n",
       "      <td>0.094295</td>\n",
       "      <td>0.0</td>\n",
       "      <td>1.0</td>\n",
       "      <td>0.0</td>\n",
       "      <td>0.0</td>\n",
       "      <td>0.0</td>\n",
       "    </tr>\n",
       "    <tr>\n",
       "      <th>20639</th>\n",
       "      <td>0.309761</td>\n",
       "      <td>0.725824</td>\n",
       "      <td>0.294118</td>\n",
       "      <td>0.070782</td>\n",
       "      <td>0.095438</td>\n",
       "      <td>0.038790</td>\n",
       "      <td>0.086992</td>\n",
       "      <td>0.130253</td>\n",
       "      <td>0.0</td>\n",
       "      <td>1.0</td>\n",
       "      <td>0.0</td>\n",
       "      <td>0.0</td>\n",
       "      <td>0.0</td>\n",
       "    </tr>\n",
       "  </tbody>\n",
       "</table>\n",
       "<p>20640 rows × 13 columns</p>\n",
       "</div>"
      ],
      "text/plain": [
       "       longitude  latitude  housing_median_age  total_rooms  total_bedrooms  \\\n",
       "0       0.211155  0.567481            0.784314     0.022331        0.019863   \n",
       "1       0.212151  0.565356            0.392157     0.180503        0.171477   \n",
       "2       0.210159  0.564293            1.000000     0.037260        0.029330   \n",
       "3       0.209163  0.564293            1.000000     0.032352        0.036313   \n",
       "4       0.209163  0.564293            1.000000     0.041330        0.043296   \n",
       "...          ...       ...                 ...          ...             ...   \n",
       "20635   0.324701  0.737513            0.470588     0.042296        0.057883   \n",
       "20636   0.312749  0.738576            0.333333     0.017676        0.023122   \n",
       "20637   0.311753  0.732200            0.313725     0.057277        0.075109   \n",
       "20638   0.301793  0.732200            0.333333     0.047256        0.063315   \n",
       "20639   0.309761  0.725824            0.294118     0.070782        0.095438   \n",
       "\n",
       "       population  households  median_income  ocean_proximity__<1H OCEAN  \\\n",
       "0        0.008941    0.020556       0.539668                         0.0   \n",
       "1        0.067210    0.186976       0.538027                         0.0   \n",
       "2        0.013818    0.028943       0.466028                         0.0   \n",
       "3        0.015555    0.035849       0.354699                         0.0   \n",
       "4        0.015752    0.042427       0.230776                         0.0   \n",
       "...           ...         ...            ...                         ...   \n",
       "20635    0.023599    0.054103       0.073130                         0.0   \n",
       "20636    0.009894    0.018582       0.141853                         0.0   \n",
       "20637    0.028140    0.071041       0.082764                         0.0   \n",
       "20638    0.020684    0.057227       0.094295                         0.0   \n",
       "20639    0.038790    0.086992       0.130253                         0.0   \n",
       "\n",
       "       ocean_proximity__INLAND  ocean_proximity__ISLAND  \\\n",
       "0                          0.0                      0.0   \n",
       "1                          0.0                      0.0   \n",
       "2                          0.0                      0.0   \n",
       "3                          0.0                      0.0   \n",
       "4                          0.0                      0.0   \n",
       "...                        ...                      ...   \n",
       "20635                      1.0                      0.0   \n",
       "20636                      1.0                      0.0   \n",
       "20637                      1.0                      0.0   \n",
       "20638                      1.0                      0.0   \n",
       "20639                      1.0                      0.0   \n",
       "\n",
       "       ocean_proximity__NEAR BAY  ocean_proximity__NEAR OCEAN  \n",
       "0                            1.0                          0.0  \n",
       "1                            1.0                          0.0  \n",
       "2                            1.0                          0.0  \n",
       "3                            1.0                          0.0  \n",
       "4                            1.0                          0.0  \n",
       "...                          ...                          ...  \n",
       "20635                        0.0                          0.0  \n",
       "20636                        0.0                          0.0  \n",
       "20637                        0.0                          0.0  \n",
       "20638                        0.0                          0.0  \n",
       "20639                        0.0                          0.0  \n",
       "\n",
       "[20640 rows x 13 columns]"
      ]
     },
     "execution_count": 12,
     "metadata": {},
     "output_type": "execute_result"
    }
   ],
   "source": [
    "X"
   ]
  },
  {
   "cell_type": "code",
   "execution_count": 13,
   "metadata": {},
   "outputs": [
    {
     "name": "stdout",
     "output_type": "stream",
     "text": [
      "Train size: 16512\n",
      "Test size: 4128\n"
     ]
    }
   ],
   "source": [
    "x_train, x_test, y_train, y_test = train_test_split(X, y, train_size=0.8, shuffle=True, random_state=1986)\n",
    "\n",
    "print('Train size:', x_train.shape[0])\n",
    "print('Test size:', x_test.shape[0])"
   ]
  },
  {
   "cell_type": "code",
   "execution_count": 14,
   "metadata": {},
   "outputs": [
    {
     "name": "stdout",
     "output_type": "stream",
     "text": [
      "range(165, 13209, 1651)\n"
     ]
    }
   ],
   "source": [
    "min_ts = int(x_train.shape[0] * 0.01)\n",
    "max_ts = int(x_train.shape[0] * 0.8)\n",
    "step_ts = int(x_train.shape[0] * 0.1)\n",
    "sizes = range(min_ts, max_ts, step_ts)\n",
    "\n",
    "print(sizes)"
   ]
  },
  {
   "cell_type": "code",
   "execution_count": 15,
   "metadata": {},
   "outputs": [],
   "source": [
    "#learner = Cholesky()\n",
    "learner = Ridge(1e-05, fit_intercept=True, normalize=True, solver='cholesky')\n",
    "#learner = LinearRegression(fit_intercept=True, normalize=True, n_jobs=-1)"
   ]
  },
  {
   "cell_type": "code",
   "execution_count": 16,
   "metadata": {},
   "outputs": [
    {
     "data": {
      "text/plain": [
       "0.02016846173373568"
      ]
     },
     "execution_count": 16,
     "metadata": {},
     "output_type": "execute_result"
    }
   ],
   "source": [
    "scores = cross_val_score(learner, x_train, y_train, cv=5, scoring=scoring, n_jobs=-1)\n",
    "-scores.mean()"
   ]
  },
  {
   "cell_type": "code",
   "execution_count": 17,
   "metadata": {},
   "outputs": [],
   "source": [
    "train_size, train_score, val_score = learning_curve(learner, x_train, y_train, train_sizes=sizes, cv=5, scoring=scoring, shuffle = True, random_state=1986, n_jobs=-1)"
   ]
  },
  {
   "cell_type": "code",
   "execution_count": 18,
   "metadata": {},
   "outputs": [
    {
     "data": {
      "image/png": "[encoded data removed]",
      "text/plain": [
       "<Figure size 432x288 with 1 Axes>"
      ]
     },
     "metadata": {
      "needs_background": "light"
     },
     "output_type": "display_data"
    }
   ],
   "source": [
    "train_score_mean = -numpy.mean(train_score, axis=1)\n",
    "train_score_std = numpy.std(train_score, axis=1)\n",
    "val_score_mean = -numpy.mean(val_score, axis=1)\n",
    "val_score_std = numpy.std(val_score, axis=1)\n",
    "plt.grid()\n",
    "plt.fill_between(sizes, train_score_mean - train_score_std,\n",
    "                 train_score_mean + train_score_std, alpha=0.1,\n",
    "                 color=\"r\")\n",
    "plt.fill_between(sizes, val_score_mean - val_score_std,\n",
    "                 val_score_mean + val_score_std, alpha=0.1, color=\"g\")\n",
    "plt.plot(sizes, train_score_mean, 'o-', color=\"r\",\n",
    "         label=\"Training error\")\n",
    "plt.plot(sizes, val_score_mean, 'o-', color=\"g\",\n",
    "         label=\"CV accuracy\")\n",
    "plt.legend()\n",
    "plt.xlabel('Training size')\n",
    "plt.ylabel('Square loss')\n",
    "plt.show()"
   ]
  },
  {
   "cell_type": "code",
   "execution_count": 19,
   "metadata": {},
   "outputs": [],
   "source": [
    "coef_list = []\n",
    "\n",
    "min_ts = int(X.shape[0] * 0.01)\n",
    "max_ts = int(X.shape[0] * 0.8)\n",
    "step_ts = int(X.shape[0] * 0.1)\n",
    "sizes = range(min_ts, max_ts, step_ts)\n",
    "\n",
    "for s in sizes:\n",
    "    x_train, x_test, y_train, y_test = train_test_split(X, y, train_size=s, random_state=1986)\n",
    "    learner.fit(x_train, y_train)\n",
    "    coef_list.append(learner.coef_)\n",
    "\n",
    "coef_matrix = numpy.array(coef_list)"
   ]
  },
  {
   "cell_type": "code",
   "execution_count": 20,
   "metadata": {},
   "outputs": [
    {
     "data": {
      "text/plain": [
       "<matplotlib.collections.PathCollection at 0x14137670>"
      ]
     },
     "execution_count": 20,
     "metadata": {},
     "output_type": "execute_result"
    },
    {
     "data": {
      "image/png": "[encoded data removed]",
      "text/plain": [
       "<Figure size 432x288 with 1 Axes>"
      ]
     },
     "metadata": {
      "needs_background": "light"
     },
     "output_type": "display_data"
    }
   ],
   "source": [
    "pca = decomposition.PCA(n_components=2)\n",
    "pca.fit(coef_matrix)\n",
    "coef_pca = pca.transform(coef_matrix)\n",
    "\n",
    "fig, ax = plt.subplots()\n",
    "#ax.set_xlim(-1.5, 1.5)\n",
    "#ax.set_ylim(-0.5, 0.5)\n",
    "plt.scatter(coef_pca[:,0], coef_pca[:,1])"
   ]
  },
  {
   "cell_type": "code",
   "execution_count": 21,
   "metadata": {},
   "outputs": [
    {
     "data": {
      "image/png": "[encoded data removed]",
      "text/plain": [
       "<Figure size 432x288 with 1 Axes>"
      ]
     },
     "metadata": {
      "needs_background": "light"
     },
     "output_type": "display_data"
    }
   ],
   "source": [
    "pca = decomposition.PCA(n_components=13)\n",
    "pca.fit(X)\n",
    "\n",
    "plt.title('PCA')\n",
    "plt.plot(pca.singular_values_, label='Singular values')\n",
    "plt.legend()\n",
    "plt.show()"
   ]
  },
  {
   "cell_type": "code",
   "execution_count": 22,
   "metadata": {},
   "outputs": [],
   "source": [
    "pca = decomposition.PCA(n_components=4)\n",
    "pca.fit(X)\n",
    "X_pca = pca.transform(X)"
   ]
  },
  {
   "cell_type": "code",
   "execution_count": 23,
   "metadata": {},
   "outputs": [
    {
     "data": {
      "image/png": "[encoded data removed]",
      "text/plain": [
       "<Figure size 432x288 with 1 Axes>"
      ]
     },
     "metadata": {
      "needs_background": "light"
     },
     "output_type": "display_data"
    }
   ],
   "source": [
    "train_score_mean = -numpy.mean(train_score, axis=1)\n",
    "train_score_std = numpy.std(train_score, axis=1)\n",
    "val_score_mean = -numpy.mean(val_score, axis=1)\n",
    "val_score_std = numpy.std(val_score, axis=1)\n",
    "plt.grid()\n",
    "plt.fill_between(sizes, train_score_mean - train_score_std,\n",
    "                 train_score_mean + train_score_std, alpha=0.1,\n",
    "                 color=\"r\")\n",
    "plt.fill_between(sizes, val_score_mean - val_score_std,\n",
    "                 val_score_mean + val_score_std, alpha=0.1, color=\"g\")\n",
    "plt.plot(sizes, train_score_mean, 'o-', color=\"r\",\n",
    "         label=\"Training error\")\n",
    "plt.plot(sizes, val_score_mean, 'o-', color=\"g\",\n",
    "         label=\"CV accuracy\")\n",
    "plt.legend()\n",
    "plt.xlabel('Training size')\n",
    "plt.ylabel('Square loss')\n",
    "plt.show()\n"
   ]
  },
  {
   "cell_type": "code",
   "execution_count": 24,
   "metadata": {},
   "outputs": [],
   "source": [
    "coef_list = []\n",
    "\n",
    "for s in sizes:\n",
    "    x_train, x_test, y_train, y_test = train_test_split(X_pca, y, train_size=s, random_state=1986)\n",
    "    learner.fit(x_train, y_train)\n",
    "    coef_list.append(learner.coef_)\n",
    "    \n",
    "coef_matrix = numpy.array(coef_list)\n",
    "\n",
    "pca = decomposition.PCA(n_components=2)\n",
    "pca.fit(coef_matrix)\n",
    "coef_pca = pca.transform(coef_matrix)"
   ]
  },
  {
   "cell_type": "code",
   "execution_count": 25,
   "metadata": {},
   "outputs": [
    {
     "data": {
      "text/plain": [
       "<matplotlib.collections.PathCollection at 0x5a0a2e0>"
      ]
     },
     "execution_count": 25,
     "metadata": {},
     "output_type": "execute_result"
    },
    {
     "data": {
      "image/png": "[encoded data removed]",
      "text/plain": [
       "<Figure size 432x288 with 1 Axes>"
      ]
     },
     "metadata": {
      "needs_background": "light"
     },
     "output_type": "display_data"
    }
   ],
   "source": [
    "fig, ax = plt.subplots()\n",
    "#ax.set_xlim(-1.5, 1.5)\n",
    "#ax.set_ylim(-0.5, 0.5)\n",
    "plt.scatter(coef_pca[:,0], coef_pca[:,1])"
   ]
  }
 ],
 "metadata": {
  "kernelspec": {
   "display_name": "Python 3",
   "language": "python",
   "name": "python3"
  },
  "language_info": {
   "codemirror_mode": {
    "name": "ipython",
    "version": 3
   },
   "file_extension": ".py",
   "mimetype": "text/x-python",
   "name": "python",
   "nbconvert_exporter": "python",
   "pygments_lexer": "ipython3",
   "version": "3.8.5"
  }
 },
 "nbformat": 4,
 "nbformat_minor": 4
}
